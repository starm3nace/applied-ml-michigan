{
 "cells": [
  {
   "cell_type": "markdown",
   "metadata": {},
   "source": [
    "---\n",
    "\n",
    "_You are currently looking at **version 1.0** of this notebook. To download notebooks and datafiles, as well as get help on Jupyter notebooks in the Coursera platform, visit the [Jupyter Notebook FAQ](https://www.coursera.org/learn/python-machine-learning/resources/bANLa) course resource._\n",
    "\n",
    "---"
   ]
  },
  {
   "cell_type": "markdown",
   "metadata": {},
   "source": [
    "## Assignment 4 - Understanding and Predicting Property Maintenance Fines\n",
    "\n",
    "This assignment is based on a data challenge from the Michigan Data Science Team ([MDST](http://midas.umich.edu/mdst/)). \n",
    "\n",
    "The Michigan Data Science Team ([MDST](http://midas.umich.edu/mdst/)) and the Michigan Student Symposium for Interdisciplinary Statistical Sciences ([MSSISS](https://sites.lsa.umich.edu/mssiss/)) have partnered with the City of Detroit to help solve one of the most pressing problems facing Detroit - blight. [Blight violations](http://www.detroitmi.gov/How-Do-I/Report/Blight-Complaint-FAQs) are issued by the city to individuals who allow their properties to remain in a deteriorated condition. Every year, the city of Detroit issues millions of dollars in fines to residents and every year, many of these fines remain unpaid. Enforcing unpaid blight fines is a costly and tedious process, so the city wants to know: how can we increase blight ticket compliance?\n",
    "\n",
    "The first step in answering this question is understanding when and why a resident might fail to comply with a blight ticket. This is where predictive modeling comes in. For this assignment, your task is to predict whether a given blight ticket will be paid on time.\n",
    "\n",
    "All data for this assignment has been provided to us through the [Detroit Open Data Portal](https://data.detroitmi.gov/). **Only the data already included in your Coursera directory can be used for training the model for this assignment.** Nonetheless, we encourage you to look into data from other Detroit datasets to help inform feature creation and model selection. We recommend taking a look at the following related datasets:\n",
    "\n",
    "* [Building Permits](https://data.detroitmi.gov/Property-Parcels/Building-Permits/xw2a-a7tf)\n",
    "* [Trades Permits](https://data.detroitmi.gov/Property-Parcels/Trades-Permits/635b-dsgv)\n",
    "* [Improve Detroit: Submitted Issues](https://data.detroitmi.gov/Government/Improve-Detroit-Submitted-Issues/fwz3-w3yn)\n",
    "* [DPD: Citizen Complaints](https://data.detroitmi.gov/Public-Safety/DPD-Citizen-Complaints-2016/kahe-efs3)\n",
    "* [Parcel Map](https://data.detroitmi.gov/Property-Parcels/Parcel-Map/fxkw-udwf)\n",
    "\n",
    "___\n",
    "\n",
    "We provide you with two data files for use in training and validating your models: train.csv and test.csv. Each row in these two files corresponds to a single blight ticket, and includes information about when, why, and to whom each ticket was issued. The target variable is compliance, which is True if the ticket was paid early, on time, or within one month of the hearing data, False if the ticket was paid after the hearing date or not at all, and Null if the violator was found not responsible. Compliance, as well as a handful of other variables that will not be available at test-time, are only included in train.csv.\n",
    "\n",
    "Note: All tickets where the violators were found not responsible are not considered during evaluation. They are included in the training set as an additional source of data for visualization, and to enable unsupervised and semi-supervised approaches. However, they are not included in the test set.\n",
    "\n",
    "<br>\n",
    "\n",
    "**File descriptions** (Use only this data for training your model!)\n",
    "\n",
    "    train.csv - the training set (all tickets issued 2004-2011)\n",
    "    test.csv - the test set (all tickets issued 2012-2016)\n",
    "    addresses.csv & latlons.csv - mapping from ticket id to addresses, and from addresses to lat/lon coordinates. \n",
    "     Note: misspelled addresses may be incorrectly geolocated.\n",
    "\n",
    "<br>\n",
    "\n",
    "**Data fields**\n",
    "\n",
    "train.csv & test.csv\n",
    "\n",
    "    ticket_id - unique identifier for tickets\n",
    "    agency_name - Agency that issued the ticket\n",
    "    inspector_name - Name of inspector that issued the ticket\n",
    "    violator_name - Name of the person/organization that the ticket was issued to\n",
    "    violation_street_number, violation_street_name, violation_zip_code - Address where the violation occurred\n",
    "    mailing_address_str_number, mailing_address_str_name, city, state, zip_code, non_us_str_code, country - Mailing address of the violator\n",
    "    ticket_issued_date - Date and time the ticket was issued\n",
    "    hearing_date - Date and time the violator's hearing was scheduled\n",
    "    violation_code, violation_description - Type of violation\n",
    "    disposition - Judgment and judgement type\n",
    "    fine_amount - Violation fine amount, excluding fees\n",
    "    admin_fee - $20 fee assigned to responsible judgments\n",
    "state_fee - $10 fee assigned to responsible judgments\n",
    "    late_fee - 10% fee assigned to responsible judgments\n",
    "    discount_amount - discount applied, if any\n",
    "    clean_up_cost - DPW clean-up or graffiti removal cost\n",
    "    judgment_amount - Sum of all fines and fees\n",
    "    grafitti_status - Flag for graffiti violations\n",
    "    \n",
    "train.csv only\n",
    "\n",
    "    payment_amount - Amount paid, if any\n",
    "    payment_date - Date payment was made, if it was received\n",
    "    payment_status - Current payment status as of Feb 1 2017\n",
    "    balance_due - Fines and fees still owed\n",
    "    collection_status - Flag for payments in collections\n",
    "    compliance [target variable for prediction] \n",
    "     Null = Not responsible\n",
    "     0 = Responsible, non-compliant\n",
    "     1 = Responsible, compliant\n",
    "    compliance_detail - More information on why each ticket was marked compliant or non-compliant\n",
    "\n",
    "\n",
    "___\n",
    "\n",
    "## Evaluation\n",
    "\n",
    "Your predictions will be given as the probability that the corresponding blight ticket will be paid on time.\n",
    "\n",
    "The evaluation metric for this assignment is the Area Under the ROC Curve (AUC). \n",
    "\n",
    "Your grade will be based on the AUC score computed for your classifier. A model which with an AUROC of 0.7 passes this assignment, over 0.75 will recieve full points.\n",
    "___\n",
    "\n",
    "For this assignment, create a function that trains a model to predict blight ticket compliance in Detroit using `train.csv`. Using this model, return a series of length 61001 with the data being the probability that each corresponding ticket from `test.csv` will be paid, and the index being the ticket_id.\n",
    "\n",
    "Example:\n",
    "\n",
    "    ticket_id\n",
    "       284932    0.531842\n",
    "       285362    0.401958\n",
    "       285361    0.105928\n",
    "       285338    0.018572\n",
    "                 ...\n",
    "       376499    0.208567\n",
    "       376500    0.818759\n",
    "       369851    0.018528\n",
    "       Name: compliance, dtype: float32"
   ]
  },
  {
   "cell_type": "markdown",
   "metadata": {
    "collapsed": true
   },
   "source": [
    "import pandas as pd\n",
    "import numpy as np"
   ]
  },
  {
   "cell_type": "markdown",
   "metadata": {
    "scrolled": true
   },
   "source": [
    "df = pd.read_csv('train.csv', encoding='ISO-8859-1')\n",
    "df.head()"
   ]
  },
  {
   "cell_type": "markdown",
   "metadata": {},
   "source": [
    "# Exploring the dataset"
   ]
  },
  {
   "cell_type": "markdown",
   "metadata": {},
   "source": [
    "## agency_name\n",
    "\n",
    "Only 5 agencies are seen in training set.\n",
    "\n",
    "However, they are very unvevenly distributed AND new agencies may appear in the future.\n",
    "\n",
    "Let us **NOT INCLUDE** this feature in our model."
   ]
  },
  {
   "cell_type": "markdown",
   "metadata": {
    "scrolled": true
   },
   "source": [
    "df['agency_name'].value_counts()"
   ]
  },
  {
   "cell_type": "markdown",
   "metadata": {},
   "source": [
    "## violator_name\n",
    "\n",
    "* There are some repeated offenders in the dataset\n",
    "* MAYBE engineer a repeated_offence feature \n",
    "* complication: need to pre-process the TEST set as well\n",
    "* complication2: vast majority are non-repeat offenders\n",
    "* some have 2-3 offences, others have hundreds\n",
    "* possible missplellings split ONE offender into multiple\n",
    "\n",
    "Let us **NOT INCLUDE** this feature in our model;\n",
    "\n",
    "\n",
    "**POSSIBLE TO RECONSIDER**"
   ]
  },
  {
   "cell_type": "markdown",
   "metadata": {},
   "source": [
    "print(\"\"\"{:,} violators received {:,} tickets.\n",
    "Average of {:0.0f} tickets per violator\"\"\".format(len(df['violator_name'].unique()), \n",
    "                                             len(df),\n",
    "                                             len(df)/len(df['violator_name'].unique())\n",
    "                                            )\n",
    "     )\n",
    "\n",
    "df['violator_name'].value_counts()"
   ]
  },
  {
   "cell_type": "markdown",
   "metadata": {},
   "source": [
    "# Location:\n",
    "\n",
    "There may exist unhospitable areas that do not pay fines; Try to explore that angle\n",
    "\n",
    "* violation_street_number - ** DO NOT INCLUDE **\n",
    "* violation_street_name  - ** DO NOT INCLUDE **\n",
    "* violation_zip_code - ** ALL NANs**"
   ]
  },
  {
   "cell_type": "markdown",
   "metadata": {},
   "source": [
    "detroit_spellings = ['DETROIT', 'DEROIT','DEROT','DERROIT','DERTOIT','DERTROIT','DET','DET48234','DETAROIT','DETEOIT','DETEROIT','DETOIT','DETORIIT','DETORIT','DETR4OIT','DETREOIT','DETRIOIT','DETRIOT','DETRIT','DETRIUT','DETRJOIT','DETROFIT','DETROI','DETROIIT','DETROIOT','DETROIR','DETROIRT','DETROIS','DETROIT','DETROIT1','DETROIT4','DETROITDETROIT','DETROITF','DETROITI','DETROITL','DETROITLI','DETROITM','DETROITMI','DETROITMI48206','DETROITQ','DETROITT','DETROITY','DETROIYT','DETROKT','DETROOIT','DETROPIT','DETRORIT','DETROT','DETROTI','DETROUIT','DETRPOT','DETRROIT','DETRTOI','DETRTOIT','DETTROIT','DETTROITM','DETYROIT']\n",
    "len(detroit_spellings)"
   ]
  },
  {
   "cell_type": "markdown",
   "metadata": {},
   "source": [
    "detroit_spellings = ['DETROIT', 'DEROIT','DEROT','DERROIT','DERTOIT','DERTROIT','DET','DET48234','DETAROIT','DETEOIT','DETEROIT','DETOIT','DETORIIT','DETORIT','DETR4OIT','DETREOIT','DETRIOIT','DETRIOT','DETRIT','DETRIUT','DETRJOIT','DETROFIT','DETROI','DETROIIT','DETROIOT','DETROIR','DETROIRT','DETROIS','DETROIT','DETROIT1','DETROIT4','DETROITDETROIT','DETROITF','DETROITI','DETROITL','DETROITLI','DETROITM','DETROITMI','DETROITMI48206','DETROITQ','DETROITT','DETROITY','DETROIYT','DETROKT','DETROOIT','DETROPIT','DETRORIT','DETROT','DETROTI','DETROUIT','DETRPOT','DETRROIT','DETRTOI','DETRTOIT','DETTROIT','DETTROITM','DETYROIT']\n",
    "\n",
    "def clean_str_row(s,\n",
    "                   normalize_case=True,\n",
    "                   remove_spaces=False,\n",
    "                   remove_punctuation=False,\n",
    "                   spellings=[]\n",
    "                  ):\n",
    "    assert type(s) is str\n",
    "    assert type(spellings) is list\n",
    "    \n",
    "    \n",
    "\n",
    "    if normalize_case:\n",
    "        s = s.upper()\n",
    "    if remove_punctuation:\n",
    "        exclude = set(string.punctuation)\n",
    "        s = ''.join(ch for ch in s if ch not in exclude)\n",
    "    if remove_spaces:\n",
    "        exclude = set(' ')\n",
    "        s = ''.join(ch for ch in s if ch not in exclude)\n",
    "\n",
    "    if s in spellings:\n",
    "        return 'DETROIT'\n",
    "    else:\n",
    "        return s\n",
    "    \n",
    "df['city'] = df['city'].apply(clean_str_row)\n",
    "\n",
    "df_detroit = df[df['city'] == 'DETROIT']\n",
    "df_detroit"
   ]
  },
  {
   "cell_type": "markdown",
   "metadata": {},
   "source": [
    "len(df['state'].value_counts())"
   ]
  },
  {
   "cell_type": "markdown",
   "metadata": {},
   "source": [
    "df['state'].value_counts().loc['MI']/len(df['state'].dropna())"
   ]
  },
  {
   "cell_type": "markdown",
   "metadata": {},
   "source": [
    "91% of all violations were by firms registered in Michigan;\n",
    "\n",
    "**MAYBE** include **`state`** as a feature;\n",
    "Same with **`zip_code`**"
   ]
  },
  {
   "cell_type": "markdown",
   "metadata": {},
   "source": [
    "df_detroit['zip_code'].isnull().sum()"
   ]
  },
  {
   "cell_type": "markdown",
   "metadata": {},
   "source": [
    "pd.merge(df_detroit, pd.get_dummies(df_detroit['zip_code'].apply(lambda x: 'zip_'+str(x))), left_index=True, right_index=True)"
   ]
  },
  {
   "cell_type": "markdown",
   "metadata": {
    "collapsed": true
   },
   "source": []
  },
  {
   "cell_type": "markdown",
   "metadata": {},
   "source": [
    "df_detroit['zip_code'].value_counts()[:10]"
   ]
  },
  {
   "cell_type": "markdown",
   "metadata": {},
   "source": [
    "## `ticket_issued_date` - Date and time the ticket was issued\n",
    "## `hearing_date` - Date and time the violator's hearing was scheduled\n",
    "\n",
    "\n",
    "**Not usable**"
   ]
  },
  {
   "cell_type": "markdown",
   "metadata": {},
   "source": [
    "## violation_code, violation_description - Type of violation\n",
    "\n",
    "** preprocess `violation_code` to unite related codes\n",
    "\n",
    "** INCLUDE `violation_code` feature (as categorical) **"
   ]
  },
  {
   "cell_type": "markdown",
   "metadata": {},
   "source": [
    "for i, frame in df[['violation_code','violation_description']].drop_duplicates().sort_values(['violation_code']).iterrows():\n",
    "    print(frame['violation_code'], ' | ', frame['violation_description'][:100])\n",
    "    print('='*110)"
   ]
  },
  {
   "cell_type": "markdown",
   "metadata": {},
   "source": [
    "def clean_violation_code(s):\n",
    "    assert type(s) is str, 'Func only takes STRING'\n",
    "    \n",
    "    import re\n",
    "    return re.split(' |\\(|/', s)[0]\n",
    "\n",
    "for i, frame in df[['violation_code','violation_description']].drop_duplicates().sort_values(['violation_code']).iterrows():\n",
    "    print(clean_violation_code(frame['violation_code']),\n",
    "          ' | ',\n",
    "          frame['violation_description'][:90]\n",
    "         )\n",
    "    print('='*110)\n",
    "    \n",
    "df['violation_code'] = df['violation_code'].apply(clean_violation_code)"
   ]
  },
  {
   "cell_type": "markdown",
   "metadata": {},
   "source": []
  },
  {
   "cell_type": "markdown",
   "metadata": {},
   "source": [
    "## disposition - Judgment and judgement type\n",
    "\n",
    "Feature relating to outcome, **DO NOT INCLUDE** due to information leaking"
   ]
  },
  {
   "cell_type": "markdown",
   "metadata": {},
   "source": [
    "df['disposition'].value_counts()"
   ]
  },
  {
   "cell_type": "markdown",
   "metadata": {},
   "source": [
    "## fine_amount - Violation fine amount, excluding fees\n",
    "\n",
    "Continuous value, **INCLUDE FEATURE**\n"
   ]
  },
  {
   "cell_type": "markdown",
   "metadata": {},
   "source": [
    "df['fine_amount'].describe()"
   ]
  },
  {
   "cell_type": "markdown",
   "metadata": {},
   "source": [
    "df['fine_amount'].isnull().sum()"
   ]
  },
  {
   "cell_type": "markdown",
   "metadata": {},
   "source": [
    "df['admin_fee']"
   ]
  },
  {
   "cell_type": "markdown",
   "metadata": {},
   "source": [
    "## admin_fee  usd 20 fee assigned to responsible judgments\n",
    "## state_fee - usd 10 fee assigned to responsible judgments\n",
    "## late_fee - 10% fee assigned to responsible judgments\n",
    "\n",
    "Not sure how these features work;\n",
    "\n",
    "Suspect Data Leakage: ** DO NOT INCLUDE **\n",
    "\n",
    "** INVESTIGATE FURTHER **"
   ]
  },
  {
   "cell_type": "markdown",
   "metadata": {},
   "source": [
    "## discount_amount - discount applied, if any\n",
    "\n",
    "** INCLUDE FEATURE **, continuous value"
   ]
  },
  {
   "cell_type": "markdown",
   "metadata": {
    "scrolled": false
   },
   "source": [
    "df['discount_amount'][df['discount_amount'] > 0].describe()"
   ]
  },
  {
   "cell_type": "markdown",
   "metadata": {},
   "source": [
    "df['discount_amount'].isnull().sum()"
   ]
  },
  {
   "cell_type": "markdown",
   "metadata": {},
   "source": [
    "## clean_up_cost - DPW clean-up or graffiti removal cost\n",
    "\n",
    "All is zero --> ** DO NOT INCLUDE FEATURE **"
   ]
  },
  {
   "cell_type": "markdown",
   "metadata": {},
   "source": [
    "df['clean_up_cost'].sum()"
   ]
  },
  {
   "cell_type": "markdown",
   "metadata": {},
   "source": [
    "## judgment_amount - Sum of all fines and fees"
   ]
  },
  {
   "cell_type": "markdown",
   "metadata": {},
   "source": [
    "df['judgment_amount'].iloc[:10]"
   ]
  },
  {
   "cell_type": "markdown",
   "metadata": {},
   "source": [
    "## grafitti_status - Flag for graffiti violations\n",
    "\n",
    "Only *1* row not na; `do not include feature`"
   ]
  },
  {
   "cell_type": "markdown",
   "metadata": {},
   "source": [
    "len(df['grafitti_status'].dropna())"
   ]
  },
  {
   "cell_type": "markdown",
   "metadata": {},
   "source": [
    "## List all `features`\n",
    "\n",
    "\n",
    "* ticket_id - unique identifier for tickets\n",
    "\n",
    "* agency_name - Agency that issued the ticket\n",
    "\n",
    "* inspector_name - Name of inspector that issued the ticket\n",
    "\n",
    "* violator_name - Name of the person/organization that the ticket was issued to\n",
    "\n",
    "* violation_street_number, violation_street_name, violation_zip_code - Address where the violation occurred\n",
    "\n",
    "* mailing_address_str_number, mailing_address_str_name, city, state, zip_code, non_us_str_code, country - Mailing address of the violator\n",
    "\n",
    "* ticket_issued_date - Date and time the ticket was issued\n",
    "\n",
    "* hearing_date - Date and time the violator's hearing was scheduled\n",
    "\n",
    "* violation_code, violation_description - Type of violation\n",
    "\n",
    "* disposition - Judgment and judgement type\n",
    "\n",
    "* fine_amount - Violation fine amount, excluding fees\n",
    "\n",
    "* admin_fee - $\\$$20 fee assigned to responsible judgments\n",
    "\n",
    "* state_fee - $\\$$10 fee assigned to responsible judgments\n",
    "\n",
    "* late_fee - 10$\\%$ fee assigned to responsible judgments\n",
    "\n",
    "* discount_amount - discount applied, if any\n",
    "\n",
    "* clean_up_cost - DPW clean-up or graffiti removal cost\n",
    "\n",
    "* judgment_amount - Sum of all fines and fees\n",
    "\n",
    "* grafitti_status - Flag for graffiti violations\n",
    "\n",
    "## List of **chosen** features\n",
    "\n",
    "* zip_code\n",
    "\n",
    "* violation_code\n",
    "\n",
    "## List of ignored features"
   ]
  },
  {
   "cell_type": "markdown",
   "metadata": {},
   "source": [
    "import pandas as pd\n",
    "import numpy as np\n",
    "\n",
    "df = pd.read_csv('train.csv', encoding='ISO-8859-1')\n",
    "\n",
    "detroit_spellings = ['DETROIT', 'DEROIT','DEROT','DERROIT','DERTOIT','DERTROIT','DET','DET48234','DETAROIT','DETEOIT','DETEROIT','DETOIT','DETORIIT','DETORIT','DETR4OIT','DETREOIT','DETRIOIT','DETRIOT','DETRIT','DETRIUT','DETRJOIT','DETROFIT','DETROI','DETROIIT','DETROIOT','DETROIR','DETROIRT','DETROIS','DETROIT','DETROIT1','DETROIT4','DETROITDETROIT','DETROITF','DETROITI','DETROITL','DETROITLI','DETROITM','DETROITMI','DETROITMI48206','DETROITQ','DETROITT','DETROITY','DETROIYT','DETROKT','DETROOIT','DETROPIT','DETRORIT','DETROT','DETROTI','DETROUIT','DETRPOT','DETRROIT','DETRTOI','DETRTOIT','DETTROIT','DETTROITM','DETYROIT']\n",
    "\n",
    "def clean_str_row(s,\n",
    "                   normalize_case=True,\n",
    "                   remove_spaces=False,\n",
    "                   remove_punctuation=False,\n",
    "                   spellings=[]\n",
    "                  ):\n",
    "    assert type(s) is str\n",
    "    assert type(spellings) is list\n",
    "    \n",
    "    \n",
    "\n",
    "    if normalize_case:\n",
    "        s = s.upper()\n",
    "    if remove_punctuation:\n",
    "        exclude = set(string.punctuation)\n",
    "        s = ''.join(ch for ch in s if ch not in exclude)\n",
    "    if remove_spaces:\n",
    "        exclude = set(' ')\n",
    "        s = ''.join(ch for ch in s if ch not in exclude)\n",
    "\n",
    "    if s in spellings:\n",
    "        return 'DETROIT'\n",
    "    else:\n",
    "        return s\n",
    "    \n",
    "df['city'] = df['city'].apply(clean_str_row)\n",
    "\n",
    "# train only on Detroit\n",
    "df_detroit = df[df['city'] == 'DETROIT']\n",
    "\n",
    "# remove tickets that were cancelled\n",
    "df_detroit = df_detroit[df_detroit['compliance'].notnull()]"
   ]
  },
  {
   "cell_type": "markdown",
   "metadata": {},
   "source": [
    "def clean_violation_code(s):\n",
    "    assert type(s) is str, 'Func only takes STRING'\n",
    "    \n",
    "    import re\n",
    "    return re.split(' |\\(|/', s)[0]\n",
    "\n",
    "# convert categorical data in df[colname] to columns\n",
    "def col_to_dummy(df, colname):\n",
    "    assert type(df) is pd.DataFrame, 'type error'\n",
    "    assert type(colname) is str, 'type error'\n",
    "    \n",
    "    # add zip_code dummies\n",
    "    df = pd.merge(df, pd.get_dummies(df[colname].apply(lambda x: colname+'_'+str(x))), left_index=True, right_index=True)\n",
    "    df = df.drop(colname, axis=1)\n",
    "    return df\n",
    "\n",
    "def prep_dataframe_for_model(df):\n",
    "\n",
    "    feature_names = ['agency_name',\n",
    "                       #'zip_code',\n",
    "                       'violation_code',\n",
    "                       'fine_amount',\n",
    "                       'admin_fee',\n",
    "                       'state_fee',\n",
    "                       'late_fee'\n",
    "                        ]\n",
    "    df.index = df['ticket_id']\n",
    "    df = df[feature_names]\n",
    "    df['violation_code'] = df['violation_code'].apply(clean_violation_code)\n",
    "    \n",
    "    categorical = ['agency_name', 'violation_code'] #'zip_code'\n",
    "\n",
    "    for col in categorical:\n",
    "        df = col_to_dummy(df, col)\n",
    "        \n",
    "        \n",
    "    return df\n",
    "        \n",
    "X_fines = prep_dataframe_for_model(df_detroit)\n",
    "y_fines = df_detroit['compliance'].copy()\n",
    "#y_fines = df_detroit['compliance']\n",
    "X_fines.head(2)"
   ]
  },
  {
   "cell_type": "markdown",
   "metadata": {},
   "source": [
    "X_predict = prep_dataframe_for_model(pd.read_csv('test.csv',encoding='ISO-8859-1'))\n",
    "X_predict.head()"
   ]
  },
  {
   "cell_type": "markdown",
   "metadata": {},
   "source": [
    "# features that exist BOTH in train and test\n",
    "common_features = sorted((set(X_predict.columns) & set(X_fines.columns)))\n",
    "X_fines=X_fines[common_features]\n",
    "X_predict=X_predict[common_features]"
   ]
  },
  {
   "cell_type": "markdown",
   "metadata": {},
   "source": [
    "# normalize continuous values\n",
    "\n",
    "from sklearn.preprocessing import MinMaxScaler\n",
    "\n",
    "scaler = MinMaxScaler()\n",
    "\n",
    "X_fines_scaled = scaler.fit_transform(X_fines)\n",
    "X_predict_scaled = scaler.transform(X_predict)\n",
    "X_fines_scaled"
   ]
  },
  {
   "cell_type": "markdown",
   "metadata": {},
   "source": [
    "from sklearn.model_selection import train_test_split\n",
    "\n",
    "X_train_scaled, X_test_scaled, y_train, y_test = train_test_split(X_fines_scaled,\n",
    "                                                                  y_fines,\n",
    "                                                                  random_state = 0)"
   ]
  },
  {
   "cell_type": "markdown",
   "metadata": {},
   "source": [
    "%%time\n",
    "\n",
    "from matplotlib import cm\n",
    "import matplotlib.pyplot as plt\n",
    "%matplotlib inline\n",
    "\n",
    "from sklearn.linear_model import LogisticRegression\n",
    "from sklearn.metrics import roc_curve, auc\n",
    "\n",
    "\n",
    "lr = LogisticRegression()\n",
    "\n",
    "y_score_lr = lr.fit(X_train_scaled, y_train).decision_function(X_test_scaled)\n",
    "fpr_lr, tpr_lr, _ = roc_curve(y_test, y_score_lr)\n",
    "roc_auc_lr = auc(fpr_lr, tpr_lr)\n",
    "\n",
    "plt.figure()\n",
    "plt.xlim([-0.01, 1.00])\n",
    "plt.ylim([-0.01, 1.01])\n",
    "plt.plot(fpr_lr, tpr_lr, lw=3, label='LogRegr ROC curve (area = {:0.2f})'.format(roc_auc_lr))\n",
    "plt.xlabel('False Positive Rate', fontsize=16)\n",
    "plt.ylabel('True Positive Rate', fontsize=16)\n",
    "plt.title('ROC curve (1-of-10 digits classifier)', fontsize=16)\n",
    "plt.legend(loc='lower right', fontsize=13)\n",
    "plt.plot([0, 1], [0, 1], color='navy', lw=3, linestyle='--')\n",
    "plt.axes().set_aspect('equal')\n",
    "plt.show()\n",
    "\n",
    "\n",
    "plt.figure()\n",
    "plt.xlim([-0.01, 1.00])\n",
    "plt.ylim([-0.01, 1.01])\n",
    "\n",
    "for c in [0.01, 0.1, 0.20, 1, 5, 10, 100, 1000]:\n",
    "    lr = LogisticRegression(C=c).fit(X_train_scaled, y_train)\n",
    "    y_score_lr = lr.decision_function(X_test_scaled)\n",
    "    fpr_lr, tpr_lr, _ = roc_curve(y_test, y_score_lr)\n",
    "    roc_auc_lr = auc(fpr_lr, tpr_lr)\n",
    "    accuracy_lr = lr.score(X_test_scaled, y_test)\n",
    "    print(\"C = {:.2f}  accuracy = {:.2f}   AUC = {:.2f}\".format(c, accuracy_lr, \n",
    "                                                                    roc_auc_lr))\n",
    "    plt.plot(fpr_lr, tpr_lr, lw=3, alpha=0.7, \n",
    "             label='LR (gamma = {:0.2f}, area = {:0.2f})'.format(c, roc_auc_lr))\n",
    "\n",
    "plt.xlabel('False Positive Rate', fontsize=16)\n",
    "plt.ylabel('True Positive Rate (Recall)', fontsize=16)\n",
    "plt.plot([0, 1], [0, 1], color='k', lw=0.5, linestyle='--')\n",
    "plt.legend(loc=\"lower right\", fontsize=11)\n",
    "plt.title('ROC curve: (fines classifier)', fontsize=16)\n",
    "plt.axes().set_aspect('equal')\n",
    "\n",
    "plt.show()"
   ]
  },
  {
   "cell_type": "markdown",
   "metadata": {},
   "source": []
  },
  {
   "cell_type": "markdown",
   "metadata": {},
   "source": []
  },
  {
   "cell_type": "code",
   "execution_count": 1,
   "metadata": {},
   "outputs": [
    {
     "name": "stderr",
     "output_type": "stream",
     "text": [
      "/home/dobrinskiy/miniconda3/envs/tf/lib/python3.6/site-packages/IPython/core/interactiveshell.py:2808: DtypeWarning: Columns (11,12,31) have mixed types. Specify dtype option on import or set low_memory=False.\n",
      "  if self.run_code(code, result):\n"
     ]
    },
    {
     "ename": "NameError",
     "evalue": "name 'prep_dataframe_for_model' is not defined",
     "output_type": "error",
     "traceback": [
      "\u001b[0;31m---------------------------------------------------------------------------\u001b[0m",
      "\u001b[0;31mNameError\u001b[0m                                 Traceback (most recent call last)",
      "\u001b[0;32m<ipython-input-1-88fe16647c44>\u001b[0m in \u001b[0;36m<module>\u001b[0;34m()\u001b[0m\n\u001b[1;32m     74\u001b[0m                      index=X_predict.index) \n\u001b[1;32m     75\u001b[0m \u001b[0;34m\u001b[0m\u001b[0m\n\u001b[0;32m---> 76\u001b[0;31m \u001b[0mblight_model\u001b[0m\u001b[0;34m(\u001b[0m\u001b[0;34m)\u001b[0m\u001b[0;34m\u001b[0m\u001b[0m\n\u001b[0m",
      "\u001b[0;32m<ipython-input-1-88fe16647c44>\u001b[0m in \u001b[0;36mblight_model\u001b[0;34m()\u001b[0m\n\u001b[1;32m     49\u001b[0m     \u001b[0mdf_detroit\u001b[0m \u001b[0;34m=\u001b[0m \u001b[0mdf_detroit\u001b[0m\u001b[0;34m[\u001b[0m\u001b[0mdf_detroit\u001b[0m\u001b[0;34m[\u001b[0m\u001b[0;34m'compliance'\u001b[0m\u001b[0;34m]\u001b[0m\u001b[0;34m.\u001b[0m\u001b[0mnotnull\u001b[0m\u001b[0;34m(\u001b[0m\u001b[0;34m)\u001b[0m\u001b[0;34m]\u001b[0m\u001b[0;34m\u001b[0m\u001b[0m\n\u001b[1;32m     50\u001b[0m \u001b[0;34m\u001b[0m\u001b[0m\n\u001b[0;32m---> 51\u001b[0;31m     \u001b[0mX_fines\u001b[0m   \u001b[0;34m=\u001b[0m \u001b[0mprep_dataframe_for_model\u001b[0m\u001b[0;34m(\u001b[0m\u001b[0mdf_detroit\u001b[0m\u001b[0;34m)\u001b[0m\u001b[0;34m\u001b[0m\u001b[0m\n\u001b[0m\u001b[1;32m     52\u001b[0m     \u001b[0mX_predict\u001b[0m \u001b[0;34m=\u001b[0m \u001b[0mprep_dataframe_for_model\u001b[0m\u001b[0;34m(\u001b[0m\u001b[0mpd\u001b[0m\u001b[0;34m.\u001b[0m\u001b[0mread_csv\u001b[0m\u001b[0;34m(\u001b[0m\u001b[0;34m'test.csv'\u001b[0m\u001b[0;34m,\u001b[0m\u001b[0mencoding\u001b[0m\u001b[0;34m=\u001b[0m\u001b[0;34m'ISO-8859-1'\u001b[0m\u001b[0;34m)\u001b[0m\u001b[0;34m)\u001b[0m\u001b[0;34m\u001b[0m\u001b[0m\n\u001b[1;32m     53\u001b[0m \u001b[0;34m\u001b[0m\u001b[0m\n",
      "\u001b[0;31mNameError\u001b[0m: name 'prep_dataframe_for_model' is not defined"
     ]
    }
   ],
   "source": [
    "import pandas as pd\n",
    "import numpy as np\n",
    "\n",
    "def blight_model():\n",
    "    \"\"\"\n",
    "    For this assignment, create a function that trains a model to predict blight ticket compliance \n",
    "    in Detroit using train.csv. Using this model, return a series of length 61001 with the data being \n",
    "    the probability that each corresponding ticket from test.csv will be paid, and the index being \n",
    "    the ticket_id.\"\"\"\n",
    "    # Your code here\n",
    "    import pandas as pd\n",
    "    import numpy as np\n",
    "\n",
    "    df = pd.read_csv('train.csv', encoding='ISO-8859-1')\n",
    "\n",
    "    detroit_spellings = ['DETROIT', 'DEROIT','DEROT','DERROIT','DERTOIT','DERTROIT','DET','DET48234','DETAROIT','DETEOIT','DETEROIT','DETOIT','DETORIIT','DETORIT','DETR4OIT','DETREOIT','DETRIOIT','DETRIOT','DETRIT','DETRIUT','DETRJOIT','DETROFIT','DETROI','DETROIIT','DETROIOT','DETROIR','DETROIRT','DETROIS','DETROIT','DETROIT1','DETROIT4','DETROITDETROIT','DETROITF','DETROITI','DETROITL','DETROITLI','DETROITM','DETROITMI','DETROITMI48206','DETROITQ','DETROITT','DETROITY','DETROIYT','DETROKT','DETROOIT','DETROPIT','DETRORIT','DETROT','DETROTI','DETROUIT','DETRPOT','DETRROIT','DETRTOI','DETRTOIT','DETTROIT','DETTROITM','DETYROIT']\n",
    "\n",
    "    def clean_str_row(s,\n",
    "                       normalize_case=True,\n",
    "                       remove_spaces=False,\n",
    "                       remove_punctuation=False,\n",
    "                       spellings=[]\n",
    "                      ):\n",
    "        assert type(s) is str\n",
    "        assert type(spellings) is list\n",
    "\n",
    "\n",
    "\n",
    "        if normalize_case:\n",
    "            s = s.upper()\n",
    "        if remove_punctuation:\n",
    "            exclude = set(string.punctuation)\n",
    "            s = ''.join(ch for ch in s if ch not in exclude)\n",
    "        if remove_spaces:\n",
    "            exclude = set(' ')\n",
    "            s = ''.join(ch for ch in s if ch not in exclude)\n",
    "\n",
    "        if s in spellings:\n",
    "            return 'DETROIT'\n",
    "        else:\n",
    "            return s\n",
    "\n",
    "    df['city'] = df['city'].apply(clean_str_row)\n",
    "\n",
    "    # train only on Detroit\n",
    "    df_detroit = df[df['city'] == 'DETROIT']\n",
    "\n",
    "    # remove tickets that were cancelled\n",
    "    df_detroit = df_detroit[df_detroit['compliance'].notnull()]\n",
    "    \n",
    "    X_fines   = prep_dataframe_for_model(df_detroit)\n",
    "    X_predict = prep_dataframe_for_model(pd.read_csv('test.csv',encoding='ISO-8859-1'))\n",
    "    \n",
    "    # features that exist BOTH in train and test\n",
    "    common_features = sorted((set(X_predict.columns) & set(X_fines.columns)))\n",
    "    X_fines=X_fines[common_features]\n",
    "    X_predict=X_predict[common_features]\n",
    "\n",
    "    from sklearn.preprocessing import MinMaxScaler\n",
    "\n",
    "    scaler = MinMaxScaler()\n",
    "\n",
    "    X_fines_scaled = scaler.fit_transform(X_fines)\n",
    "    X_predict_scaled = scaler.transform(X_predict)\n",
    "    X_fines_scaled\n",
    "    \n",
    "    from sklearn.model_selection import train_test_split\n",
    "\n",
    "    X_train_scaled, X_test_scaled, y_train, y_test = train_test_split(X_fines_scaled,\n",
    "                                                                      y_fines,\n",
    "                                                                      random_state = 0)\n",
    "    lr = LogisticRegression(C=10).fit(X_train_scaled, y_train)\n",
    "    return pd.Series(lr.predict_proba(X_predict_scaled)[:, 1], # only return column corresponding to prob Y=1\n",
    "                     index=X_predict.index) \n",
    "\n",
    "blight_model()"
   ]
  },
  {
   "cell_type": "code",
   "execution_count": null,
   "metadata": {
    "collapsed": true
   },
   "outputs": [],
   "source": []
  },
  {
   "cell_type": "code",
   "execution_count": null,
   "metadata": {
    "collapsed": true
   },
   "outputs": [],
   "source": []
  },
  {
   "cell_type": "code",
   "execution_count": null,
   "metadata": {
    "collapsed": true
   },
   "outputs": [],
   "source": []
  },
  {
   "cell_type": "code",
   "execution_count": null,
   "metadata": {
    "collapsed": true
   },
   "outputs": [],
   "source": []
  },
  {
   "cell_type": "code",
   "execution_count": null,
   "metadata": {
    "collapsed": true
   },
   "outputs": [],
   "source": []
  },
  {
   "cell_type": "code",
   "execution_count": null,
   "metadata": {
    "collapsed": true
   },
   "outputs": [],
   "source": []
  },
  {
   "cell_type": "code",
   "execution_count": null,
   "metadata": {
    "collapsed": true
   },
   "outputs": [],
   "source": []
  },
  {
   "cell_type": "code",
   "execution_count": null,
   "metadata": {
    "collapsed": true
   },
   "outputs": [],
   "source": []
  },
  {
   "cell_type": "code",
   "execution_count": null,
   "metadata": {
    "collapsed": true
   },
   "outputs": [],
   "source": []
  },
  {
   "cell_type": "code",
   "execution_count": null,
   "metadata": {
    "collapsed": true
   },
   "outputs": [],
   "source": []
  }
 ],
 "metadata": {
  "coursera": {
   "course_slug": "python-machine-learning",
   "graded_item_id": "nNS8l",
   "launcher_item_id": "yWWk7",
   "part_id": "w8BSS"
  },
  "kernelspec": {
   "display_name": "Python 3",
   "language": "python",
   "name": "python3"
  },
  "language_info": {
   "codemirror_mode": {
    "name": "ipython",
    "version": 3
   },
   "file_extension": ".py",
   "mimetype": "text/x-python",
   "name": "python",
   "nbconvert_exporter": "python",
   "pygments_lexer": "ipython3",
   "version": "3.6.2"
  }
 },
 "nbformat": 4,
 "nbformat_minor": 2
}
