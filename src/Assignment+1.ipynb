{
 "cells": [
  {
   "cell_type": "markdown",
   "metadata": {},
   "source": [
    "---\n",
    "\n",
    "_You are currently looking at **version 1.1** of this notebook. To download notebooks and datafiles, as well as get help on Jupyter notebooks in the Coursera platform, visit the [Jupyter Notebook FAQ](https://www.coursera.org/learn/python-machine-learning/resources/bANLa) course resource._\n",
    "\n",
    "---"
   ]
  },
  {
   "cell_type": "markdown",
   "metadata": {},
   "source": [
    "# Assignment 1 - Introduction to Machine Learning"
   ]
  },
  {
   "cell_type": "markdown",
   "metadata": {},
   "source": [
    "For this assignment, you will be using the Breast Cancer Wisconsin (Diagnostic) Database to create a classifier that can help diagnose patients. First, read through the description of the dataset (below)."
   ]
  },
  {
   "cell_type": "code",
   "execution_count": 1,
   "metadata": {},
   "outputs": [
    {
     "name": "stdout",
     "output_type": "stream",
     "text": [
      "Breast Cancer Wisconsin (Diagnostic) Database\n",
      "=============================================\n",
      "\n",
      "Notes\n",
      "-----\n",
      "Data Set Characteristics:\n",
      "    :Number of Instances: 569\n",
      "\n",
      "    :Number of Attributes: 30 numeric, predictive attributes and the class\n",
      "\n",
      "    :Attribute Information:\n",
      "        - radius (mean of distances from center to points on the perimeter)\n",
      "        - texture (standard deviation of gray-scale values)\n",
      "        - perimeter\n",
      "        - area\n",
      "        - smoothness (local variation in radius lengths)\n",
      "        - compactness (perimeter^2 / area - 1.0)\n",
      "        - concavity (severity of concave portions of the contour)\n",
      "        - concave points (number of concave portions of the contour)\n",
      "        - symmetry \n",
      "        - fractal dimension (\"coastline approximation\" - 1)\n",
      "\n",
      "        The mean, standard error, and \"worst\" or largest (mean of the three\n",
      "        largest values) of these features were computed for each image,\n",
      "        resulting in 30 features.  For instance, field 3 is Mean Radius, field\n",
      "        13 is Radius SE, field 23 is Worst Radius.\n",
      "\n",
      "        - class:\n",
      "                - WDBC-Malignant\n",
      "                - WDBC-Benign\n",
      "\n",
      "    :Summary Statistics:\n",
      "\n",
      "    ===================================== ====== ======\n",
      "                                           Min    Max\n",
      "    ===================================== ====== ======\n",
      "    radius (mean):                        6.981  28.11\n",
      "    texture (mean):                       9.71   39.28\n",
      "    perimeter (mean):                     43.79  188.5\n",
      "    area (mean):                          143.5  2501.0\n",
      "    smoothness (mean):                    0.053  0.163\n",
      "    compactness (mean):                   0.019  0.345\n",
      "    concavity (mean):                     0.0    0.427\n",
      "    concave points (mean):                0.0    0.201\n",
      "    symmetry (mean):                      0.106  0.304\n",
      "    fractal dimension (mean):             0.05   0.097\n",
      "    radius (standard error):              0.112  2.873\n",
      "    texture (standard error):             0.36   4.885\n",
      "    perimeter (standard error):           0.757  21.98\n",
      "    area (standard error):                6.802  542.2\n",
      "    smoothness (standard error):          0.002  0.031\n",
      "    compactness (standard error):         0.002  0.135\n",
      "    concavity (standard error):           0.0    0.396\n",
      "    concave points (standard error):      0.0    0.053\n",
      "    symmetry (standard error):            0.008  0.079\n",
      "    fractal dimension (standard error):   0.001  0.03\n",
      "    radius (worst):                       7.93   36.04\n",
      "    texture (worst):                      12.02  49.54\n",
      "    perimeter (worst):                    50.41  251.2\n",
      "    area (worst):                         185.2  4254.0\n",
      "    smoothness (worst):                   0.071  0.223\n",
      "    compactness (worst):                  0.027  1.058\n",
      "    concavity (worst):                    0.0    1.252\n",
      "    concave points (worst):               0.0    0.291\n",
      "    symmetry (worst):                     0.156  0.664\n",
      "    fractal dimension (worst):            0.055  0.208\n",
      "    ===================================== ====== ======\n",
      "\n",
      "    :Missing Attribute Values: None\n",
      "\n",
      "    :Class Distribution: 212 - Malignant, 357 - Benign\n",
      "\n",
      "    :Creator:  Dr. William H. Wolberg, W. Nick Street, Olvi L. Mangasarian\n",
      "\n",
      "    :Donor: Nick Street\n",
      "\n",
      "    :Date: November, 1995\n",
      "\n",
      "This is a copy of UCI ML Breast Cancer Wisconsin (Diagnostic) datasets.\n",
      "https://goo.gl/U2Uwz2\n",
      "\n",
      "Features are computed from a digitized image of a fine needle\n",
      "aspirate (FNA) of a breast mass.  They describe\n",
      "characteristics of the cell nuclei present in the image.\n",
      "\n",
      "Separating plane described above was obtained using\n",
      "Multisurface Method-Tree (MSM-T) [K. P. Bennett, \"Decision Tree\n",
      "Construction Via Linear Programming.\" Proceedings of the 4th\n",
      "Midwest Artificial Intelligence and Cognitive Science Society,\n",
      "pp. 97-101, 1992], a classification method which uses linear\n",
      "programming to construct a decision tree.  Relevant features\n",
      "were selected using an exhaustive search in the space of 1-4\n",
      "features and 1-3 separating planes.\n",
      "\n",
      "The actual linear program used to obtain the separating plane\n",
      "in the 3-dimensional space is that described in:\n",
      "[K. P. Bennett and O. L. Mangasarian: \"Robust Linear\n",
      "Programming Discrimination of Two Linearly Inseparable Sets\",\n",
      "Optimization Methods and Software 1, 1992, 23-34].\n",
      "\n",
      "This database is also available through the UW CS ftp server:\n",
      "\n",
      "ftp ftp.cs.wisc.edu\n",
      "cd math-prog/cpo-dataset/machine-learn/WDBC/\n",
      "\n",
      "References\n",
      "----------\n",
      "   - W.N. Street, W.H. Wolberg and O.L. Mangasarian. Nuclear feature extraction \n",
      "     for breast tumor diagnosis. IS&T/SPIE 1993 International Symposium on \n",
      "     Electronic Imaging: Science and Technology, volume 1905, pages 861-870,\n",
      "     San Jose, CA, 1993.\n",
      "   - O.L. Mangasarian, W.N. Street and W.H. Wolberg. Breast cancer diagnosis and \n",
      "     prognosis via linear programming. Operations Research, 43(4), pages 570-577, \n",
      "     July-August 1995.\n",
      "   - W.H. Wolberg, W.N. Street, and O.L. Mangasarian. Machine learning techniques\n",
      "     to diagnose breast cancer from fine-needle aspirates. Cancer Letters 77 (1994) \n",
      "     163-171.\n",
      "\n"
     ]
    }
   ],
   "source": [
    "import numpy as np\n",
    "import pandas as pd\n",
    "from sklearn.datasets import load_breast_cancer\n",
    "\n",
    "cancer = load_breast_cancer()\n",
    "\n",
    "print(cancer.DESCR) # Print the data set description"
   ]
  },
  {
   "cell_type": "markdown",
   "metadata": {},
   "source": [
    "The object returned by `load_breast_cancer()` is a scikit-learn Bunch object, which is similar to a dictionary."
   ]
  },
  {
   "cell_type": "code",
   "execution_count": 2,
   "metadata": {},
   "outputs": [
    {
     "data": {
      "text/plain": [
       "dict_keys(['data', 'target', 'target_names', 'DESCR', 'feature_names'])"
      ]
     },
     "execution_count": 2,
     "metadata": {},
     "output_type": "execute_result"
    }
   ],
   "source": [
    "cancer.keys()"
   ]
  },
  {
   "cell_type": "markdown",
   "metadata": {},
   "source": [
    "### Question 0 (Example)\n",
    "\n",
    "How many features does the breast cancer dataset have?\n",
    "\n",
    "*This function should return an integer.*"
   ]
  },
  {
   "cell_type": "code",
   "execution_count": 3,
   "metadata": {},
   "outputs": [
    {
     "data": {
      "text/plain": [
       "30.0"
      ]
     },
     "execution_count": 3,
     "metadata": {},
     "output_type": "execute_result"
    }
   ],
   "source": [
    "# You should write your whole answer within the function provided. The autograder will call\n",
    "# this function and compare the return value against the correct solution value\n",
    "def answer_zero():\n",
    "    # This function returns the number of features of the breast cancer dataset, which is an integer. \n",
    "    # The assignment question description will tell you the general format the autograder is expecting\n",
    "    return float(len(cancer['feature_names']))\n",
    "\n",
    "# You can examine what your function returns by calling it in the cell. If you have questions\n",
    "# about the assignment formats, check out the discussion forums for any FAQs\n",
    "answer_zero() "
   ]
  },
  {
   "cell_type": "markdown",
   "metadata": {},
   "source": [
    "### Question 1\n",
    "\n",
    "Scikit-learn works with lists, numpy arrays, scipy-sparse matrices, and pandas DataFrames, so converting the dataset to a DataFrame is not necessary for training this model. Using a DataFrame does however help make many things easier such as munging data, so let's practice creating a classifier with a pandas DataFrame. \n",
    "\n",
    "\n",
    "\n",
    "Convert the sklearn.dataset `cancer` to a DataFrame. \n",
    "\n",
    "*This function should return a `(569, 31)` DataFrame with * \n",
    "\n",
    "*columns = *\n",
    "\n",
    "    ['mean radius', 'mean texture', 'mean perimeter', 'mean area',\n",
    "    'mean smoothness', 'mean compactness', 'mean concavity',\n",
    "    'mean concave points', 'mean symmetry', 'mean fractal dimension',\n",
    "    'radius error', 'texture error', 'perimeter error', 'area error',\n",
    "    'smoothness error', 'compactness error', 'concavity error',\n",
    "    'concave points error', 'symmetry error', 'fractal dimension error',\n",
    "    'worst radius', 'worst texture', 'worst perimeter', 'worst area',\n",
    "    'worst smoothness', 'worst compactness', 'worst concavity',\n",
    "    'worst concave points', 'worst symmetry', 'worst fractal dimension',\n",
    "    'target']\n",
    "\n",
    "*and index = *\n",
    "\n",
    "    RangeIndex(start=0, stop=569, step=1)"
   ]
  },
  {
   "cell_type": "code",
   "execution_count": 4,
   "metadata": {
    "scrolled": true
   },
   "outputs": [
    {
     "data": {
      "text/plain": [
       "dict_keys(['data', 'target', 'target_names', 'DESCR', 'feature_names'])"
      ]
     },
     "execution_count": 4,
     "metadata": {},
     "output_type": "execute_result"
    }
   ],
   "source": [
    "cancer.keys()"
   ]
  },
  {
   "cell_type": "code",
   "execution_count": 5,
   "metadata": {},
   "outputs": [
    {
     "data": {
      "text/plain": [
       "30"
      ]
     },
     "execution_count": 5,
     "metadata": {},
     "output_type": "execute_result"
    }
   ],
   "source": [
    "len(cancer['feature_names'])"
   ]
  },
  {
   "cell_type": "code",
   "execution_count": 6,
   "metadata": {
    "scrolled": true
   },
   "outputs": [
    {
     "data": {
      "text/plain": [
       "569"
      ]
     },
     "execution_count": 6,
     "metadata": {},
     "output_type": "execute_result"
    }
   ],
   "source": [
    "len(cancer['data'])"
   ]
  },
  {
   "cell_type": "code",
   "execution_count": 7,
   "metadata": {},
   "outputs": [
    {
     "data": {
      "text/plain": [
       "30"
      ]
     },
     "execution_count": 7,
     "metadata": {},
     "output_type": "execute_result"
    }
   ],
   "source": [
    "len(cancer['data'][0])"
   ]
  },
  {
   "cell_type": "code",
   "execution_count": 8,
   "metadata": {},
   "outputs": [
    {
     "data": {
      "text/plain": [
       "569"
      ]
     },
     "execution_count": 8,
     "metadata": {},
     "output_type": "execute_result"
    }
   ],
   "source": [
    "len(cancer['target'])"
   ]
  },
  {
   "cell_type": "code",
   "execution_count": 9,
   "metadata": {},
   "outputs": [
    {
     "data": {
      "text/html": [
       "<div>\n",
       "<style>\n",
       "    .dataframe thead tr:only-child th {\n",
       "        text-align: right;\n",
       "    }\n",
       "\n",
       "    .dataframe thead th {\n",
       "        text-align: left;\n",
       "    }\n",
       "\n",
       "    .dataframe tbody tr th {\n",
       "        vertical-align: top;\n",
       "    }\n",
       "</style>\n",
       "<table border=\"1\" class=\"dataframe\">\n",
       "  <thead>\n",
       "    <tr style=\"text-align: right;\">\n",
       "      <th></th>\n",
       "      <th>mean radius</th>\n",
       "      <th>mean texture</th>\n",
       "      <th>mean perimeter</th>\n",
       "      <th>mean area</th>\n",
       "      <th>mean smoothness</th>\n",
       "      <th>mean compactness</th>\n",
       "      <th>mean concavity</th>\n",
       "      <th>mean concave points</th>\n",
       "      <th>mean symmetry</th>\n",
       "      <th>mean fractal dimension</th>\n",
       "      <th>...</th>\n",
       "      <th>worst texture</th>\n",
       "      <th>worst perimeter</th>\n",
       "      <th>worst area</th>\n",
       "      <th>worst smoothness</th>\n",
       "      <th>worst compactness</th>\n",
       "      <th>worst concavity</th>\n",
       "      <th>worst concave points</th>\n",
       "      <th>worst symmetry</th>\n",
       "      <th>worst fractal dimension</th>\n",
       "      <th>target</th>\n",
       "    </tr>\n",
       "  </thead>\n",
       "  <tbody>\n",
       "    <tr>\n",
       "      <th>0</th>\n",
       "      <td>17.99</td>\n",
       "      <td>10.38</td>\n",
       "      <td>122.80</td>\n",
       "      <td>1001.0</td>\n",
       "      <td>0.11840</td>\n",
       "      <td>0.27760</td>\n",
       "      <td>0.3001</td>\n",
       "      <td>0.14710</td>\n",
       "      <td>0.2419</td>\n",
       "      <td>0.07871</td>\n",
       "      <td>...</td>\n",
       "      <td>17.33</td>\n",
       "      <td>184.60</td>\n",
       "      <td>2019.0</td>\n",
       "      <td>0.1622</td>\n",
       "      <td>0.6656</td>\n",
       "      <td>0.7119</td>\n",
       "      <td>0.2654</td>\n",
       "      <td>0.4601</td>\n",
       "      <td>0.11890</td>\n",
       "      <td>0</td>\n",
       "    </tr>\n",
       "    <tr>\n",
       "      <th>1</th>\n",
       "      <td>20.57</td>\n",
       "      <td>17.77</td>\n",
       "      <td>132.90</td>\n",
       "      <td>1326.0</td>\n",
       "      <td>0.08474</td>\n",
       "      <td>0.07864</td>\n",
       "      <td>0.0869</td>\n",
       "      <td>0.07017</td>\n",
       "      <td>0.1812</td>\n",
       "      <td>0.05667</td>\n",
       "      <td>...</td>\n",
       "      <td>23.41</td>\n",
       "      <td>158.80</td>\n",
       "      <td>1956.0</td>\n",
       "      <td>0.1238</td>\n",
       "      <td>0.1866</td>\n",
       "      <td>0.2416</td>\n",
       "      <td>0.1860</td>\n",
       "      <td>0.2750</td>\n",
       "      <td>0.08902</td>\n",
       "      <td>0</td>\n",
       "    </tr>\n",
       "    <tr>\n",
       "      <th>2</th>\n",
       "      <td>19.69</td>\n",
       "      <td>21.25</td>\n",
       "      <td>130.00</td>\n",
       "      <td>1203.0</td>\n",
       "      <td>0.10960</td>\n",
       "      <td>0.15990</td>\n",
       "      <td>0.1974</td>\n",
       "      <td>0.12790</td>\n",
       "      <td>0.2069</td>\n",
       "      <td>0.05999</td>\n",
       "      <td>...</td>\n",
       "      <td>25.53</td>\n",
       "      <td>152.50</td>\n",
       "      <td>1709.0</td>\n",
       "      <td>0.1444</td>\n",
       "      <td>0.4245</td>\n",
       "      <td>0.4504</td>\n",
       "      <td>0.2430</td>\n",
       "      <td>0.3613</td>\n",
       "      <td>0.08758</td>\n",
       "      <td>0</td>\n",
       "    </tr>\n",
       "    <tr>\n",
       "      <th>3</th>\n",
       "      <td>11.42</td>\n",
       "      <td>20.38</td>\n",
       "      <td>77.58</td>\n",
       "      <td>386.1</td>\n",
       "      <td>0.14250</td>\n",
       "      <td>0.28390</td>\n",
       "      <td>0.2414</td>\n",
       "      <td>0.10520</td>\n",
       "      <td>0.2597</td>\n",
       "      <td>0.09744</td>\n",
       "      <td>...</td>\n",
       "      <td>26.50</td>\n",
       "      <td>98.87</td>\n",
       "      <td>567.7</td>\n",
       "      <td>0.2098</td>\n",
       "      <td>0.8663</td>\n",
       "      <td>0.6869</td>\n",
       "      <td>0.2575</td>\n",
       "      <td>0.6638</td>\n",
       "      <td>0.17300</td>\n",
       "      <td>0</td>\n",
       "    </tr>\n",
       "    <tr>\n",
       "      <th>4</th>\n",
       "      <td>20.29</td>\n",
       "      <td>14.34</td>\n",
       "      <td>135.10</td>\n",
       "      <td>1297.0</td>\n",
       "      <td>0.10030</td>\n",
       "      <td>0.13280</td>\n",
       "      <td>0.1980</td>\n",
       "      <td>0.10430</td>\n",
       "      <td>0.1809</td>\n",
       "      <td>0.05883</td>\n",
       "      <td>...</td>\n",
       "      <td>16.67</td>\n",
       "      <td>152.20</td>\n",
       "      <td>1575.0</td>\n",
       "      <td>0.1374</td>\n",
       "      <td>0.2050</td>\n",
       "      <td>0.4000</td>\n",
       "      <td>0.1625</td>\n",
       "      <td>0.2364</td>\n",
       "      <td>0.07678</td>\n",
       "      <td>0</td>\n",
       "    </tr>\n",
       "  </tbody>\n",
       "</table>\n",
       "<p>5 rows × 31 columns</p>\n",
       "</div>"
      ],
      "text/plain": [
       "   mean radius  mean texture  mean perimeter  mean area  mean smoothness  \\\n",
       "0        17.99         10.38          122.80     1001.0          0.11840   \n",
       "1        20.57         17.77          132.90     1326.0          0.08474   \n",
       "2        19.69         21.25          130.00     1203.0          0.10960   \n",
       "3        11.42         20.38           77.58      386.1          0.14250   \n",
       "4        20.29         14.34          135.10     1297.0          0.10030   \n",
       "\n",
       "   mean compactness  mean concavity  mean concave points  mean symmetry  \\\n",
       "0           0.27760          0.3001              0.14710         0.2419   \n",
       "1           0.07864          0.0869              0.07017         0.1812   \n",
       "2           0.15990          0.1974              0.12790         0.2069   \n",
       "3           0.28390          0.2414              0.10520         0.2597   \n",
       "4           0.13280          0.1980              0.10430         0.1809   \n",
       "\n",
       "   mean fractal dimension   ...    worst texture  worst perimeter  worst area  \\\n",
       "0                 0.07871   ...            17.33           184.60      2019.0   \n",
       "1                 0.05667   ...            23.41           158.80      1956.0   \n",
       "2                 0.05999   ...            25.53           152.50      1709.0   \n",
       "3                 0.09744   ...            26.50            98.87       567.7   \n",
       "4                 0.05883   ...            16.67           152.20      1575.0   \n",
       "\n",
       "   worst smoothness  worst compactness  worst concavity  worst concave points  \\\n",
       "0            0.1622             0.6656           0.7119                0.2654   \n",
       "1            0.1238             0.1866           0.2416                0.1860   \n",
       "2            0.1444             0.4245           0.4504                0.2430   \n",
       "3            0.2098             0.8663           0.6869                0.2575   \n",
       "4            0.1374             0.2050           0.4000                0.1625   \n",
       "\n",
       "   worst symmetry  worst fractal dimension  target  \n",
       "0          0.4601                  0.11890       0  \n",
       "1          0.2750                  0.08902       0  \n",
       "2          0.3613                  0.08758       0  \n",
       "3          0.6638                  0.17300       0  \n",
       "4          0.2364                  0.07678       0  \n",
       "\n",
       "[5 rows x 31 columns]"
      ]
     },
     "execution_count": 9,
     "metadata": {},
     "output_type": "execute_result"
    }
   ],
   "source": [
    "df = pd.DataFrame(data=cancer['data'], columns=cancer['feature_names'])\n",
    "df['target'] = cancer['target']\n",
    "df.head()"
   ]
  },
  {
   "cell_type": "code",
   "execution_count": 10,
   "metadata": {},
   "outputs": [
    {
     "data": {
      "text/plain": [
       "RangeIndex(start=0, stop=569, step=1)"
      ]
     },
     "execution_count": 10,
     "metadata": {},
     "output_type": "execute_result"
    }
   ],
   "source": [
    "df.index"
   ]
  },
  {
   "cell_type": "code",
   "execution_count": 11,
   "metadata": {
    "collapsed": true
   },
   "outputs": [],
   "source": [
    "def answer_one():\n",
    "\n",
    "    # Your code here\n",
    "    # import feature data\n",
    "    df = pd.DataFrame(data=cancer['data'], columns=cancer['feature_names'])\n",
    "    \n",
    "    # add target data to dataframe\n",
    "    df['target'] = cancer['target']\n",
    "    \n",
    "    return df\n",
    "\n",
    "\n",
    "answer_one();"
   ]
  },
  {
   "cell_type": "markdown",
   "metadata": {},
   "source": [
    "### Question 2\n",
    "What is the class distribution? (i.e. how many instances of `malignant` (encoded 0) and how many `benign` (encoded 1)?)\n",
    "\n",
    "*This function should return a Series named `target` of length 2 with integer values and index =* `['malignant', 'benign']`"
   ]
  },
  {
   "cell_type": "code",
   "execution_count": 25,
   "metadata": {},
   "outputs": [
    {
     "data": {
      "text/plain": [
       "array(['malignant', 'benign'],\n",
       "      dtype='<U9')"
      ]
     },
     "execution_count": 25,
     "metadata": {},
     "output_type": "execute_result"
    }
   ],
   "source": [
    "cancer['target_names']"
   ]
  },
  {
   "cell_type": "code",
   "execution_count": 26,
   "metadata": {},
   "outputs": [
    {
     "data": {
      "text/plain": [
       "{0: 'malignant', 1: 'benign'}"
      ]
     },
     "execution_count": 26,
     "metadata": {},
     "output_type": "execute_result"
    }
   ],
   "source": [
    "target_names_dict = {0: 'malignant', 1: 'benign'}\n",
    "target_names_dict"
   ]
  },
  {
   "cell_type": "code",
   "execution_count": 36,
   "metadata": {
    "collapsed": true,
    "scrolled": true
   },
   "outputs": [],
   "source": [
    "cancerdf = answer_one()\n",
    "distribution = cancerdf['target'].value_counts()\n",
    "# replace distribution index with associated target names\n",
    "distribution.index = list(map(lambda x: target_names_dict[x], distribution.index))"
   ]
  },
  {
   "cell_type": "code",
   "execution_count": 37,
   "metadata": {},
   "outputs": [
    {
     "data": {
      "text/plain": [
       "benign       357\n",
       "malignant    212\n",
       "Name: target, dtype: int64"
      ]
     },
     "execution_count": 37,
     "metadata": {},
     "output_type": "execute_result"
    }
   ],
   "source": [
    "distribution"
   ]
  },
  {
   "cell_type": "code",
   "execution_count": 12,
   "metadata": {},
   "outputs": [
    {
     "data": {
      "text/plain": [
       "benign       357\n",
       "malignant    212\n",
       "Name: target, dtype: int64"
      ]
     },
     "execution_count": 12,
     "metadata": {},
     "output_type": "execute_result"
    }
   ],
   "source": [
    "def answer_two():\n",
    "    cancerdf = answer_one()\n",
    "    \n",
    "    # Your code here\n",
    "    target_names_dict = {0: 'malignant', 1: 'benign'}\n",
    "    distribution = cancerdf['target'].value_counts()\n",
    "    # replace distribution index with associated target names\n",
    "    distribution.index = list(map(lambda x: target_names_dict[x], distribution.index))\n",
    "    return distribution\n",
    "\n",
    "\n",
    "answer_two()"
   ]
  },
  {
   "cell_type": "markdown",
   "metadata": {},
   "source": [
    "### Question 3\n",
    "Split the DataFrame into `X` (the data) and `y` (the labels).\n",
    "\n",
    "*This function should return a tuple of length 2:* `(X, y)`*, where* \n",
    "* `X` *has shape* `(569, 30)`\n",
    "* `y` *has shape* `(569,)`."
   ]
  },
  {
   "cell_type": "code",
   "execution_count": 43,
   "metadata": {},
   "outputs": [
    {
     "data": {
      "text/plain": [
       "(569,)"
      ]
     },
     "execution_count": 43,
     "metadata": {},
     "output_type": "execute_result"
    }
   ],
   "source": [
    "cancerdf = answer_one()\n",
    "y = cancerdf['target'].values\n",
    "y.shape"
   ]
  },
  {
   "cell_type": "code",
   "execution_count": 50,
   "metadata": {},
   "outputs": [
    {
     "data": {
      "text/plain": [
       "(569, 30)"
      ]
     },
     "execution_count": 50,
     "metadata": {},
     "output_type": "execute_result"
    }
   ],
   "source": [
    "X = np.array(cancerdf.drop(['target'], axis=1))\n",
    "X.shape"
   ]
  },
  {
   "cell_type": "code",
   "execution_count": 18,
   "metadata": {},
   "outputs": [
    {
     "data": {
      "text/plain": [
       "((569, 30), (569,))"
      ]
     },
     "execution_count": 18,
     "metadata": {},
     "output_type": "execute_result"
    }
   ],
   "source": [
    "def answer_three():\n",
    "    cancerdf = answer_one()\n",
    "    # Your code here\n",
    "    y = cancerdf['target']\n",
    "    X = cancerdf.drop(['target'], axis=1)\n",
    "    return X, y\n",
    "\n",
    "answer_three()[0].shape, answer_three()[1].shape"
   ]
  },
  {
   "cell_type": "markdown",
   "metadata": {},
   "source": [
    "### Question 4\n",
    "Using `train_test_split`, split `X` and `y` into training and test sets `(X_train, X_test, y_train, and y_test)`.\n",
    "\n",
    "**Set the random number generator state to 0 using `random_state=0` to make sure your results match the autograder!**\n",
    "\n",
    "*This function should return a tuple of length 4:* `(X_train, X_test, y_train, y_test)`*, where* \n",
    "* `X_train` *has shape* `(426, 30)`\n",
    "* `X_test` *has shape* `(143, 30)`\n",
    "* `y_train` *has shape* `(426,)`\n",
    "* `y_test` *has shape* `(143,)`"
   ]
  },
  {
   "cell_type": "code",
   "execution_count": 24,
   "metadata": {},
   "outputs": [
    {
     "name": "stdout",
     "output_type": "stream",
     "text": [
      "(426, 30)\n",
      "(143, 30)\n",
      "(426,)\n",
      "(143,)\n"
     ]
    }
   ],
   "source": [
    "from sklearn.model_selection import train_test_split\n",
    "\n",
    "def answer_four():\n",
    "    X, y = answer_three()\n",
    "    \n",
    "    # Your code here\n",
    "    X_train, X_test, y_train, y_test = train_test_split(X, y, random_state=0)\n",
    "\n",
    "    \n",
    "    return X_train, X_test, y_train, y_test\n",
    "\n",
    "for s in answer_four():\n",
    "    print(np.shape(s))"
   ]
  },
  {
   "cell_type": "markdown",
   "metadata": {},
   "source": [
    "### Question 5\n",
    "Using KNeighborsClassifier, fit a k-nearest neighbors (knn) classifier with `X_train`, `y_train` and using one nearest neighbor (`n_neighbors = 1`).\n",
    "\n",
    "*This function should return a * `sklearn.neighbors.classification.KNeighborsClassifier`."
   ]
  },
  {
   "cell_type": "code",
   "execution_count": 27,
   "metadata": {},
   "outputs": [
    {
     "data": {
      "text/plain": [
       "KNeighborsClassifier(algorithm='auto', leaf_size=30, metric='minkowski',\n",
       "           metric_params=None, n_jobs=1, n_neighbors=1, p=2,\n",
       "           weights='uniform')"
      ]
     },
     "execution_count": 27,
     "metadata": {},
     "output_type": "execute_result"
    }
   ],
   "source": [
    "from sklearn.neighbors import KNeighborsClassifier\n",
    "\n",
    "def answer_five():\n",
    "    X_train, X_test, y_train, y_test = answer_four()\n",
    "    \n",
    "    # Your code here\n",
    "    knn = KNeighborsClassifier(n_neighbors=1)\n",
    "    knn.fit(X_train, y_train)\n",
    "    return knn\n",
    "\n",
    "answer_five()"
   ]
  },
  {
   "cell_type": "markdown",
   "metadata": {},
   "source": [
    "### Question 6\n",
    "Using your knn classifier, predict the class label using the mean value for each feature.\n",
    "\n",
    "Hint: You can use `cancerdf.mean()[:-1].values.reshape(1, -1)` which gets the mean value for each feature, ignores the target column, and reshapes the data from 1 dimension to 2 (necessary for the precict method of KNeighborsClassifier).\n",
    "\n",
    "*This function should return a numpy array either `array([ 0.])` or `array([ 1.])`*"
   ]
  },
  {
   "cell_type": "code",
   "execution_count": 30,
   "metadata": {},
   "outputs": [
    {
     "data": {
      "text/plain": [
       "(1, 30)"
      ]
     },
     "execution_count": 30,
     "metadata": {},
     "output_type": "execute_result"
    }
   ],
   "source": [
    "cancerdf = answer_one()\n",
    "means = cancerdf.mean()[:-1].values.reshape(1, -1)\n",
    "means.shape"
   ]
  },
  {
   "cell_type": "code",
   "execution_count": 31,
   "metadata": {
    "collapsed": true
   },
   "outputs": [],
   "source": [
    "knn = answer_five()"
   ]
  },
  {
   "cell_type": "code",
   "execution_count": 36,
   "metadata": {},
   "outputs": [
    {
     "data": {
      "text/plain": [
       "array([1])"
      ]
     },
     "execution_count": 36,
     "metadata": {},
     "output_type": "execute_result"
    }
   ],
   "source": []
  },
  {
   "cell_type": "code",
   "execution_count": 37,
   "metadata": {},
   "outputs": [
    {
     "data": {
      "text/plain": [
       "array([1])"
      ]
     },
     "execution_count": 37,
     "metadata": {},
     "output_type": "execute_result"
    }
   ],
   "source": [
    "def answer_six():\n",
    "    cancerdf = answer_one()\n",
    "    means = cancerdf.mean()[:-1].values.reshape(1, -1)\n",
    "    \n",
    "    # Your code here\n",
    "    knn = answer_five()\n",
    "    \n",
    "    return knn.predict(means) # Return your answer\n",
    "\n",
    "answer_six()"
   ]
  },
  {
   "cell_type": "markdown",
   "metadata": {},
   "source": [
    "### Question 7\n",
    "Using your knn classifier, predict the class labels for the test set `X_test`.\n",
    "\n",
    "*This function should return a numpy array with shape `(143,)` and values either `0.0` or `1.0`.*"
   ]
  },
  {
   "cell_type": "code",
   "execution_count": 41,
   "metadata": {},
   "outputs": [],
   "source": [
    "X_train, X_test, y_train, y_test = answer_four()"
   ]
  },
  {
   "cell_type": "code",
   "execution_count": 46,
   "metadata": {},
   "outputs": [
    {
     "data": {
      "text/plain": [
       "array([1, 1, 1, 0, 1, 1, 1, 1, 1, 1, 0, 1, 1, 1, 0, 0, 1, 0, 0, 0, 0, 1, 1,\n",
       "       1, 0, 1, 1, 1, 1, 0, 1, 0, 1, 0, 1, 0, 1, 0, 1, 0, 0, 1, 0, 1, 0, 0,\n",
       "       1, 1, 1, 0, 0, 1, 0, 1, 1, 1, 1, 1, 1, 0, 0, 0, 1, 1, 0, 1, 0, 0, 0,\n",
       "       1, 1, 0, 1, 1, 0, 1, 1, 1, 1, 1, 0, 0, 0, 1, 0, 1, 1, 1, 0, 0, 1, 0,\n",
       "       1, 0, 1, 1, 0, 1, 1, 1, 1, 1, 1, 1, 0, 1, 0, 1, 0, 1, 1, 0, 0, 1, 1,\n",
       "       1, 0, 1, 1, 1, 1, 1, 1, 1, 0, 1, 1, 1, 1, 1, 0, 1, 1, 1, 1, 1, 1, 0,\n",
       "       0, 1, 1, 1, 0])"
      ]
     },
     "execution_count": 46,
     "metadata": {},
     "output_type": "execute_result"
    }
   ],
   "source": [
    "knn.predict(X_test)"
   ]
  },
  {
   "cell_type": "code",
   "execution_count": 47,
   "metadata": {},
   "outputs": [
    {
     "data": {
      "text/plain": [
       "(143,)"
      ]
     },
     "execution_count": 47,
     "metadata": {},
     "output_type": "execute_result"
    }
   ],
   "source": [
    "knn.predict(X_test).shape"
   ]
  },
  {
   "cell_type": "code",
   "execution_count": 48,
   "metadata": {
    "collapsed": true
   },
   "outputs": [],
   "source": [
    "def answer_seven():\n",
    "    X_train, X_test, y_train, y_test = answer_four()\n",
    "    knn = answer_five()\n",
    "    \n",
    "    # Your code here\n",
    "    \n",
    "    return knn.predict(X_test) # Return your answer"
   ]
  },
  {
   "cell_type": "markdown",
   "metadata": {},
   "source": [
    "### Question 8\n",
    "Find the score (mean accuracy) of your knn classifier using `X_test` and `y_test`.\n",
    "\n",
    "*This function should return a float between 0 and 1*"
   ]
  },
  {
   "cell_type": "code",
   "execution_count": 49,
   "metadata": {},
   "outputs": [
    {
     "data": {
      "text/plain": [
       "0.91608391608391604"
      ]
     },
     "execution_count": 49,
     "metadata": {},
     "output_type": "execute_result"
    }
   ],
   "source": [
    "def answer_eight():\n",
    "    X_train, X_test, y_train, y_test = answer_four()\n",
    "    knn = answer_five()\n",
    "    \n",
    "    # Your code here\n",
    "    knn.score(X_test, y_test)\n",
    "    return knn.score(X_test, y_test)\n",
    "\n",
    "answer_eight()"
   ]
  },
  {
   "cell_type": "markdown",
   "metadata": {},
   "source": [
    "### Optional plot\n",
    "\n",
    "Try using the plotting function below to visualize the differet predicition scores between training and test sets, as well as malignant and benign cells."
   ]
  },
  {
   "cell_type": "code",
   "execution_count": 50,
   "metadata": {
    "collapsed": true
   },
   "outputs": [],
   "source": [
    "def accuracy_plot():\n",
    "    import matplotlib.pyplot as plt\n",
    "\n",
    "    %matplotlib notebook\n",
    "\n",
    "    X_train, X_test, y_train, y_test = answer_four()\n",
    "\n",
    "    # Find the training and testing accuracies by target value (i.e. malignant, benign)\n",
    "    mal_train_X = X_train[y_train==0]\n",
    "    mal_train_y = y_train[y_train==0]\n",
    "    ben_train_X = X_train[y_train==1]\n",
    "    ben_train_y = y_train[y_train==1]\n",
    "\n",
    "    mal_test_X = X_test[y_test==0]\n",
    "    mal_test_y = y_test[y_test==0]\n",
    "    ben_test_X = X_test[y_test==1]\n",
    "    ben_test_y = y_test[y_test==1]\n",
    "\n",
    "    knn = answer_five()\n",
    "\n",
    "    scores = [knn.score(mal_train_X, mal_train_y), knn.score(ben_train_X, ben_train_y), \n",
    "              knn.score(mal_test_X, mal_test_y), knn.score(ben_test_X, ben_test_y)]\n",
    "\n",
    "\n",
    "    plt.figure()\n",
    "\n",
    "    # Plot the scores as a bar chart\n",
    "    bars = plt.bar(np.arange(4), scores, color=['#4c72b0','#4c72b0','#55a868','#55a868'])\n",
    "\n",
    "    # directly label the score onto the bars\n",
    "    for bar in bars:\n",
    "        height = bar.get_height()\n",
    "        plt.gca().text(bar.get_x() + bar.get_width()/2, height*.90, '{0:.{1}f}'.format(height, 2), \n",
    "                     ha='center', color='w', fontsize=11)\n",
    "\n",
    "    # remove all the ticks (both axes), and tick labels on the Y axis\n",
    "    plt.tick_params(top='off', bottom='off', left='off', right='off', labelleft='off', labelbottom='on')\n",
    "\n",
    "    # remove the frame of the chart\n",
    "    for spine in plt.gca().spines.values():\n",
    "        spine.set_visible(False)\n",
    "\n",
    "    plt.xticks([0,1,2,3], ['Malignant\\nTraining', 'Benign\\nTraining', 'Malignant\\nTest', 'Benign\\nTest'], alpha=0.8);\n",
    "    plt.title('Training and Test Accuracies for Malignant and Benign Cells', alpha=0.8)"
   ]
  },
  {
   "cell_type": "code",
   "execution_count": 51,
   "metadata": {},
   "outputs": [
    {
     "data": {
      "application/javascript": [
       "/* Put everything inside the global mpl namespace */\n",
       "window.mpl = {};\n",
       "\n",
       "\n",
       "mpl.get_websocket_type = function() {\n",
       "    if (typeof(WebSocket) !== 'undefined') {\n",
       "        return WebSocket;\n",
       "    } else if (typeof(MozWebSocket) !== 'undefined') {\n",
       "        return MozWebSocket;\n",
       "    } else {\n",
       "        alert('Your browser does not have WebSocket support.' +\n",
       "              'Please try Chrome, Safari or Firefox ≥ 6. ' +\n",
       "              'Firefox 4 and 5 are also supported but you ' +\n",
       "              'have to enable WebSockets in about:config.');\n",
       "    };\n",
       "}\n",
       "\n",
       "mpl.figure = function(figure_id, websocket, ondownload, parent_element) {\n",
       "    this.id = figure_id;\n",
       "\n",
       "    this.ws = websocket;\n",
       "\n",
       "    this.supports_binary = (this.ws.binaryType != undefined);\n",
       "\n",
       "    if (!this.supports_binary) {\n",
       "        var warnings = document.getElementById(\"mpl-warnings\");\n",
       "        if (warnings) {\n",
       "            warnings.style.display = 'block';\n",
       "            warnings.textContent = (\n",
       "                \"This browser does not support binary websocket messages. \" +\n",
       "                    \"Performance may be slow.\");\n",
       "        }\n",
       "    }\n",
       "\n",
       "    this.imageObj = new Image();\n",
       "\n",
       "    this.context = undefined;\n",
       "    this.message = undefined;\n",
       "    this.canvas = undefined;\n",
       "    this.rubberband_canvas = undefined;\n",
       "    this.rubberband_context = undefined;\n",
       "    this.format_dropdown = undefined;\n",
       "\n",
       "    this.image_mode = 'full';\n",
       "\n",
       "    this.root = $('<div/>');\n",
       "    this._root_extra_style(this.root)\n",
       "    this.root.attr('style', 'display: inline-block');\n",
       "\n",
       "    $(parent_element).append(this.root);\n",
       "\n",
       "    this._init_header(this);\n",
       "    this._init_canvas(this);\n",
       "    this._init_toolbar(this);\n",
       "\n",
       "    var fig = this;\n",
       "\n",
       "    this.waiting = false;\n",
       "\n",
       "    this.ws.onopen =  function () {\n",
       "            fig.send_message(\"supports_binary\", {value: fig.supports_binary});\n",
       "            fig.send_message(\"send_image_mode\", {});\n",
       "            if (mpl.ratio != 1) {\n",
       "                fig.send_message(\"set_dpi_ratio\", {'dpi_ratio': mpl.ratio});\n",
       "            }\n",
       "            fig.send_message(\"refresh\", {});\n",
       "        }\n",
       "\n",
       "    this.imageObj.onload = function() {\n",
       "            if (fig.image_mode == 'full') {\n",
       "                // Full images could contain transparency (where diff images\n",
       "                // almost always do), so we need to clear the canvas so that\n",
       "                // there is no ghosting.\n",
       "                fig.context.clearRect(0, 0, fig.canvas.width, fig.canvas.height);\n",
       "            }\n",
       "            fig.context.drawImage(fig.imageObj, 0, 0);\n",
       "        };\n",
       "\n",
       "    this.imageObj.onunload = function() {\n",
       "        this.ws.close();\n",
       "    }\n",
       "\n",
       "    this.ws.onmessage = this._make_on_message_function(this);\n",
       "\n",
       "    this.ondownload = ondownload;\n",
       "}\n",
       "\n",
       "mpl.figure.prototype._init_header = function() {\n",
       "    var titlebar = $(\n",
       "        '<div class=\"ui-dialog-titlebar ui-widget-header ui-corner-all ' +\n",
       "        'ui-helper-clearfix\"/>');\n",
       "    var titletext = $(\n",
       "        '<div class=\"ui-dialog-title\" style=\"width: 100%; ' +\n",
       "        'text-align: center; padding: 3px;\"/>');\n",
       "    titlebar.append(titletext)\n",
       "    this.root.append(titlebar);\n",
       "    this.header = titletext[0];\n",
       "}\n",
       "\n",
       "\n",
       "\n",
       "mpl.figure.prototype._canvas_extra_style = function(canvas_div) {\n",
       "\n",
       "}\n",
       "\n",
       "\n",
       "mpl.figure.prototype._root_extra_style = function(canvas_div) {\n",
       "\n",
       "}\n",
       "\n",
       "mpl.figure.prototype._init_canvas = function() {\n",
       "    var fig = this;\n",
       "\n",
       "    var canvas_div = $('<div/>');\n",
       "\n",
       "    canvas_div.attr('style', 'position: relative; clear: both; outline: 0');\n",
       "\n",
       "    function canvas_keyboard_event(event) {\n",
       "        return fig.key_event(event, event['data']);\n",
       "    }\n",
       "\n",
       "    canvas_div.keydown('key_press', canvas_keyboard_event);\n",
       "    canvas_div.keyup('key_release', canvas_keyboard_event);\n",
       "    this.canvas_div = canvas_div\n",
       "    this._canvas_extra_style(canvas_div)\n",
       "    this.root.append(canvas_div);\n",
       "\n",
       "    var canvas = $('<canvas/>');\n",
       "    canvas.addClass('mpl-canvas');\n",
       "    canvas.attr('style', \"left: 0; top: 0; z-index: 0; outline: 0\")\n",
       "\n",
       "    this.canvas = canvas[0];\n",
       "    this.context = canvas[0].getContext(\"2d\");\n",
       "\n",
       "    var backingStore = this.context.backingStorePixelRatio ||\n",
       "\tthis.context.webkitBackingStorePixelRatio ||\n",
       "\tthis.context.mozBackingStorePixelRatio ||\n",
       "\tthis.context.msBackingStorePixelRatio ||\n",
       "\tthis.context.oBackingStorePixelRatio ||\n",
       "\tthis.context.backingStorePixelRatio || 1;\n",
       "\n",
       "    mpl.ratio = (window.devicePixelRatio || 1) / backingStore;\n",
       "\n",
       "    var rubberband = $('<canvas/>');\n",
       "    rubberband.attr('style', \"position: absolute; left: 0; top: 0; z-index: 1;\")\n",
       "\n",
       "    var pass_mouse_events = true;\n",
       "\n",
       "    canvas_div.resizable({\n",
       "        start: function(event, ui) {\n",
       "            pass_mouse_events = false;\n",
       "        },\n",
       "        resize: function(event, ui) {\n",
       "            fig.request_resize(ui.size.width, ui.size.height);\n",
       "        },\n",
       "        stop: function(event, ui) {\n",
       "            pass_mouse_events = true;\n",
       "            fig.request_resize(ui.size.width, ui.size.height);\n",
       "        },\n",
       "    });\n",
       "\n",
       "    function mouse_event_fn(event) {\n",
       "        if (pass_mouse_events)\n",
       "            return fig.mouse_event(event, event['data']);\n",
       "    }\n",
       "\n",
       "    rubberband.mousedown('button_press', mouse_event_fn);\n",
       "    rubberband.mouseup('button_release', mouse_event_fn);\n",
       "    // Throttle sequential mouse events to 1 every 20ms.\n",
       "    rubberband.mousemove('motion_notify', mouse_event_fn);\n",
       "\n",
       "    rubberband.mouseenter('figure_enter', mouse_event_fn);\n",
       "    rubberband.mouseleave('figure_leave', mouse_event_fn);\n",
       "\n",
       "    canvas_div.on(\"wheel\", function (event) {\n",
       "        event = event.originalEvent;\n",
       "        event['data'] = 'scroll'\n",
       "        if (event.deltaY < 0) {\n",
       "            event.step = 1;\n",
       "        } else {\n",
       "            event.step = -1;\n",
       "        }\n",
       "        mouse_event_fn(event);\n",
       "    });\n",
       "\n",
       "    canvas_div.append(canvas);\n",
       "    canvas_div.append(rubberband);\n",
       "\n",
       "    this.rubberband = rubberband;\n",
       "    this.rubberband_canvas = rubberband[0];\n",
       "    this.rubberband_context = rubberband[0].getContext(\"2d\");\n",
       "    this.rubberband_context.strokeStyle = \"#000000\";\n",
       "\n",
       "    this._resize_canvas = function(width, height) {\n",
       "        // Keep the size of the canvas, canvas container, and rubber band\n",
       "        // canvas in synch.\n",
       "        canvas_div.css('width', width)\n",
       "        canvas_div.css('height', height)\n",
       "\n",
       "        canvas.attr('width', width * mpl.ratio);\n",
       "        canvas.attr('height', height * mpl.ratio);\n",
       "        canvas.attr('style', 'width: ' + width + 'px; height: ' + height + 'px;');\n",
       "\n",
       "        rubberband.attr('width', width);\n",
       "        rubberband.attr('height', height);\n",
       "    }\n",
       "\n",
       "    // Set the figure to an initial 600x600px, this will subsequently be updated\n",
       "    // upon first draw.\n",
       "    this._resize_canvas(600, 600);\n",
       "\n",
       "    // Disable right mouse context menu.\n",
       "    $(this.rubberband_canvas).bind(\"contextmenu\",function(e){\n",
       "        return false;\n",
       "    });\n",
       "\n",
       "    function set_focus () {\n",
       "        canvas.focus();\n",
       "        canvas_div.focus();\n",
       "    }\n",
       "\n",
       "    window.setTimeout(set_focus, 100);\n",
       "}\n",
       "\n",
       "mpl.figure.prototype._init_toolbar = function() {\n",
       "    var fig = this;\n",
       "\n",
       "    var nav_element = $('<div/>')\n",
       "    nav_element.attr('style', 'width: 100%');\n",
       "    this.root.append(nav_element);\n",
       "\n",
       "    // Define a callback function for later on.\n",
       "    function toolbar_event(event) {\n",
       "        return fig.toolbar_button_onclick(event['data']);\n",
       "    }\n",
       "    function toolbar_mouse_event(event) {\n",
       "        return fig.toolbar_button_onmouseover(event['data']);\n",
       "    }\n",
       "\n",
       "    for(var toolbar_ind in mpl.toolbar_items) {\n",
       "        var name = mpl.toolbar_items[toolbar_ind][0];\n",
       "        var tooltip = mpl.toolbar_items[toolbar_ind][1];\n",
       "        var image = mpl.toolbar_items[toolbar_ind][2];\n",
       "        var method_name = mpl.toolbar_items[toolbar_ind][3];\n",
       "\n",
       "        if (!name) {\n",
       "            // put a spacer in here.\n",
       "            continue;\n",
       "        }\n",
       "        var button = $('<button/>');\n",
       "        button.addClass('ui-button ui-widget ui-state-default ui-corner-all ' +\n",
       "                        'ui-button-icon-only');\n",
       "        button.attr('role', 'button');\n",
       "        button.attr('aria-disabled', 'false');\n",
       "        button.click(method_name, toolbar_event);\n",
       "        button.mouseover(tooltip, toolbar_mouse_event);\n",
       "\n",
       "        var icon_img = $('<span/>');\n",
       "        icon_img.addClass('ui-button-icon-primary ui-icon');\n",
       "        icon_img.addClass(image);\n",
       "        icon_img.addClass('ui-corner-all');\n",
       "\n",
       "        var tooltip_span = $('<span/>');\n",
       "        tooltip_span.addClass('ui-button-text');\n",
       "        tooltip_span.html(tooltip);\n",
       "\n",
       "        button.append(icon_img);\n",
       "        button.append(tooltip_span);\n",
       "\n",
       "        nav_element.append(button);\n",
       "    }\n",
       "\n",
       "    var fmt_picker_span = $('<span/>');\n",
       "\n",
       "    var fmt_picker = $('<select/>');\n",
       "    fmt_picker.addClass('mpl-toolbar-option ui-widget ui-widget-content');\n",
       "    fmt_picker_span.append(fmt_picker);\n",
       "    nav_element.append(fmt_picker_span);\n",
       "    this.format_dropdown = fmt_picker[0];\n",
       "\n",
       "    for (var ind in mpl.extensions) {\n",
       "        var fmt = mpl.extensions[ind];\n",
       "        var option = $(\n",
       "            '<option/>', {selected: fmt === mpl.default_extension}).html(fmt);\n",
       "        fmt_picker.append(option)\n",
       "    }\n",
       "\n",
       "    // Add hover states to the ui-buttons\n",
       "    $( \".ui-button\" ).hover(\n",
       "        function() { $(this).addClass(\"ui-state-hover\");},\n",
       "        function() { $(this).removeClass(\"ui-state-hover\");}\n",
       "    );\n",
       "\n",
       "    var status_bar = $('<span class=\"mpl-message\"/>');\n",
       "    nav_element.append(status_bar);\n",
       "    this.message = status_bar[0];\n",
       "}\n",
       "\n",
       "mpl.figure.prototype.request_resize = function(x_pixels, y_pixels) {\n",
       "    // Request matplotlib to resize the figure. Matplotlib will then trigger a resize in the client,\n",
       "    // which will in turn request a refresh of the image.\n",
       "    this.send_message('resize', {'width': x_pixels, 'height': y_pixels});\n",
       "}\n",
       "\n",
       "mpl.figure.prototype.send_message = function(type, properties) {\n",
       "    properties['type'] = type;\n",
       "    properties['figure_id'] = this.id;\n",
       "    this.ws.send(JSON.stringify(properties));\n",
       "}\n",
       "\n",
       "mpl.figure.prototype.send_draw_message = function() {\n",
       "    if (!this.waiting) {\n",
       "        this.waiting = true;\n",
       "        this.ws.send(JSON.stringify({type: \"draw\", figure_id: this.id}));\n",
       "    }\n",
       "}\n",
       "\n",
       "\n",
       "mpl.figure.prototype.handle_save = function(fig, msg) {\n",
       "    var format_dropdown = fig.format_dropdown;\n",
       "    var format = format_dropdown.options[format_dropdown.selectedIndex].value;\n",
       "    fig.ondownload(fig, format);\n",
       "}\n",
       "\n",
       "\n",
       "mpl.figure.prototype.handle_resize = function(fig, msg) {\n",
       "    var size = msg['size'];\n",
       "    if (size[0] != fig.canvas.width || size[1] != fig.canvas.height) {\n",
       "        fig._resize_canvas(size[0], size[1]);\n",
       "        fig.send_message(\"refresh\", {});\n",
       "    };\n",
       "}\n",
       "\n",
       "mpl.figure.prototype.handle_rubberband = function(fig, msg) {\n",
       "    var x0 = msg['x0'] / mpl.ratio;\n",
       "    var y0 = (fig.canvas.height - msg['y0']) / mpl.ratio;\n",
       "    var x1 = msg['x1'] / mpl.ratio;\n",
       "    var y1 = (fig.canvas.height - msg['y1']) / mpl.ratio;\n",
       "    x0 = Math.floor(x0) + 0.5;\n",
       "    y0 = Math.floor(y0) + 0.5;\n",
       "    x1 = Math.floor(x1) + 0.5;\n",
       "    y1 = Math.floor(y1) + 0.5;\n",
       "    var min_x = Math.min(x0, x1);\n",
       "    var min_y = Math.min(y0, y1);\n",
       "    var width = Math.abs(x1 - x0);\n",
       "    var height = Math.abs(y1 - y0);\n",
       "\n",
       "    fig.rubberband_context.clearRect(\n",
       "        0, 0, fig.canvas.width, fig.canvas.height);\n",
       "\n",
       "    fig.rubberband_context.strokeRect(min_x, min_y, width, height);\n",
       "}\n",
       "\n",
       "mpl.figure.prototype.handle_figure_label = function(fig, msg) {\n",
       "    // Updates the figure title.\n",
       "    fig.header.textContent = msg['label'];\n",
       "}\n",
       "\n",
       "mpl.figure.prototype.handle_cursor = function(fig, msg) {\n",
       "    var cursor = msg['cursor'];\n",
       "    switch(cursor)\n",
       "    {\n",
       "    case 0:\n",
       "        cursor = 'pointer';\n",
       "        break;\n",
       "    case 1:\n",
       "        cursor = 'default';\n",
       "        break;\n",
       "    case 2:\n",
       "        cursor = 'crosshair';\n",
       "        break;\n",
       "    case 3:\n",
       "        cursor = 'move';\n",
       "        break;\n",
       "    }\n",
       "    fig.rubberband_canvas.style.cursor = cursor;\n",
       "}\n",
       "\n",
       "mpl.figure.prototype.handle_message = function(fig, msg) {\n",
       "    fig.message.textContent = msg['message'];\n",
       "}\n",
       "\n",
       "mpl.figure.prototype.handle_draw = function(fig, msg) {\n",
       "    // Request the server to send over a new figure.\n",
       "    fig.send_draw_message();\n",
       "}\n",
       "\n",
       "mpl.figure.prototype.handle_image_mode = function(fig, msg) {\n",
       "    fig.image_mode = msg['mode'];\n",
       "}\n",
       "\n",
       "mpl.figure.prototype.updated_canvas_event = function() {\n",
       "    // Called whenever the canvas gets updated.\n",
       "    this.send_message(\"ack\", {});\n",
       "}\n",
       "\n",
       "// A function to construct a web socket function for onmessage handling.\n",
       "// Called in the figure constructor.\n",
       "mpl.figure.prototype._make_on_message_function = function(fig) {\n",
       "    return function socket_on_message(evt) {\n",
       "        if (evt.data instanceof Blob) {\n",
       "            /* FIXME: We get \"Resource interpreted as Image but\n",
       "             * transferred with MIME type text/plain:\" errors on\n",
       "             * Chrome.  But how to set the MIME type?  It doesn't seem\n",
       "             * to be part of the websocket stream */\n",
       "            evt.data.type = \"image/png\";\n",
       "\n",
       "            /* Free the memory for the previous frames */\n",
       "            if (fig.imageObj.src) {\n",
       "                (window.URL || window.webkitURL).revokeObjectURL(\n",
       "                    fig.imageObj.src);\n",
       "            }\n",
       "\n",
       "            fig.imageObj.src = (window.URL || window.webkitURL).createObjectURL(\n",
       "                evt.data);\n",
       "            fig.updated_canvas_event();\n",
       "            fig.waiting = false;\n",
       "            return;\n",
       "        }\n",
       "        else if (typeof evt.data === 'string' && evt.data.slice(0, 21) == \"data:image/png;base64\") {\n",
       "            fig.imageObj.src = evt.data;\n",
       "            fig.updated_canvas_event();\n",
       "            fig.waiting = false;\n",
       "            return;\n",
       "        }\n",
       "\n",
       "        var msg = JSON.parse(evt.data);\n",
       "        var msg_type = msg['type'];\n",
       "\n",
       "        // Call the  \"handle_{type}\" callback, which takes\n",
       "        // the figure and JSON message as its only arguments.\n",
       "        try {\n",
       "            var callback = fig[\"handle_\" + msg_type];\n",
       "        } catch (e) {\n",
       "            console.log(\"No handler for the '\" + msg_type + \"' message type: \", msg);\n",
       "            return;\n",
       "        }\n",
       "\n",
       "        if (callback) {\n",
       "            try {\n",
       "                // console.log(\"Handling '\" + msg_type + \"' message: \", msg);\n",
       "                callback(fig, msg);\n",
       "            } catch (e) {\n",
       "                console.log(\"Exception inside the 'handler_\" + msg_type + \"' callback:\", e, e.stack, msg);\n",
       "            }\n",
       "        }\n",
       "    };\n",
       "}\n",
       "\n",
       "// from http://stackoverflow.com/questions/1114465/getting-mouse-location-in-canvas\n",
       "mpl.findpos = function(e) {\n",
       "    //this section is from http://www.quirksmode.org/js/events_properties.html\n",
       "    var targ;\n",
       "    if (!e)\n",
       "        e = window.event;\n",
       "    if (e.target)\n",
       "        targ = e.target;\n",
       "    else if (e.srcElement)\n",
       "        targ = e.srcElement;\n",
       "    if (targ.nodeType == 3) // defeat Safari bug\n",
       "        targ = targ.parentNode;\n",
       "\n",
       "    // jQuery normalizes the pageX and pageY\n",
       "    // pageX,Y are the mouse positions relative to the document\n",
       "    // offset() returns the position of the element relative to the document\n",
       "    var x = e.pageX - $(targ).offset().left;\n",
       "    var y = e.pageY - $(targ).offset().top;\n",
       "\n",
       "    return {\"x\": x, \"y\": y};\n",
       "};\n",
       "\n",
       "/*\n",
       " * return a copy of an object with only non-object keys\n",
       " * we need this to avoid circular references\n",
       " * http://stackoverflow.com/a/24161582/3208463\n",
       " */\n",
       "function simpleKeys (original) {\n",
       "  return Object.keys(original).reduce(function (obj, key) {\n",
       "    if (typeof original[key] !== 'object')\n",
       "        obj[key] = original[key]\n",
       "    return obj;\n",
       "  }, {});\n",
       "}\n",
       "\n",
       "mpl.figure.prototype.mouse_event = function(event, name) {\n",
       "    var canvas_pos = mpl.findpos(event)\n",
       "\n",
       "    if (name === 'button_press')\n",
       "    {\n",
       "        this.canvas.focus();\n",
       "        this.canvas_div.focus();\n",
       "    }\n",
       "\n",
       "    var x = canvas_pos.x * mpl.ratio;\n",
       "    var y = canvas_pos.y * mpl.ratio;\n",
       "\n",
       "    this.send_message(name, {x: x, y: y, button: event.button,\n",
       "                             step: event.step,\n",
       "                             guiEvent: simpleKeys(event)});\n",
       "\n",
       "    /* This prevents the web browser from automatically changing to\n",
       "     * the text insertion cursor when the button is pressed.  We want\n",
       "     * to control all of the cursor setting manually through the\n",
       "     * 'cursor' event from matplotlib */\n",
       "    event.preventDefault();\n",
       "    return false;\n",
       "}\n",
       "\n",
       "mpl.figure.prototype._key_event_extra = function(event, name) {\n",
       "    // Handle any extra behaviour associated with a key event\n",
       "}\n",
       "\n",
       "mpl.figure.prototype.key_event = function(event, name) {\n",
       "\n",
       "    // Prevent repeat events\n",
       "    if (name == 'key_press')\n",
       "    {\n",
       "        if (event.which === this._key)\n",
       "            return;\n",
       "        else\n",
       "            this._key = event.which;\n",
       "    }\n",
       "    if (name == 'key_release')\n",
       "        this._key = null;\n",
       "\n",
       "    var value = '';\n",
       "    if (event.ctrlKey && event.which != 17)\n",
       "        value += \"ctrl+\";\n",
       "    if (event.altKey && event.which != 18)\n",
       "        value += \"alt+\";\n",
       "    if (event.shiftKey && event.which != 16)\n",
       "        value += \"shift+\";\n",
       "\n",
       "    value += 'k';\n",
       "    value += event.which.toString();\n",
       "\n",
       "    this._key_event_extra(event, name);\n",
       "\n",
       "    this.send_message(name, {key: value,\n",
       "                             guiEvent: simpleKeys(event)});\n",
       "    return false;\n",
       "}\n",
       "\n",
       "mpl.figure.prototype.toolbar_button_onclick = function(name) {\n",
       "    if (name == 'download') {\n",
       "        this.handle_save(this, null);\n",
       "    } else {\n",
       "        this.send_message(\"toolbar_button\", {name: name});\n",
       "    }\n",
       "};\n",
       "\n",
       "mpl.figure.prototype.toolbar_button_onmouseover = function(tooltip) {\n",
       "    this.message.textContent = tooltip;\n",
       "};\n",
       "mpl.toolbar_items = [[\"Home\", \"Reset original view\", \"fa fa-home icon-home\", \"home\"], [\"Back\", \"Back to  previous view\", \"fa fa-arrow-left icon-arrow-left\", \"back\"], [\"Forward\", \"Forward to next view\", \"fa fa-arrow-right icon-arrow-right\", \"forward\"], [\"\", \"\", \"\", \"\"], [\"Pan\", \"Pan axes with left mouse, zoom with right\", \"fa fa-arrows icon-move\", \"pan\"], [\"Zoom\", \"Zoom to rectangle\", \"fa fa-square-o icon-check-empty\", \"zoom\"], [\"\", \"\", \"\", \"\"], [\"Download\", \"Download plot\", \"fa fa-floppy-o icon-save\", \"download\"]];\n",
       "\n",
       "mpl.extensions = [\"eps\", \"pdf\", \"png\", \"ps\", \"raw\", \"svg\"];\n",
       "\n",
       "mpl.default_extension = \"png\";var comm_websocket_adapter = function(comm) {\n",
       "    // Create a \"websocket\"-like object which calls the given IPython comm\n",
       "    // object with the appropriate methods. Currently this is a non binary\n",
       "    // socket, so there is still some room for performance tuning.\n",
       "    var ws = {};\n",
       "\n",
       "    ws.close = function() {\n",
       "        comm.close()\n",
       "    };\n",
       "    ws.send = function(m) {\n",
       "        //console.log('sending', m);\n",
       "        comm.send(m);\n",
       "    };\n",
       "    // Register the callback with on_msg.\n",
       "    comm.on_msg(function(msg) {\n",
       "        //console.log('receiving', msg['content']['data'], msg);\n",
       "        // Pass the mpl event to the overriden (by mpl) onmessage function.\n",
       "        ws.onmessage(msg['content']['data'])\n",
       "    });\n",
       "    return ws;\n",
       "}\n",
       "\n",
       "mpl.mpl_figure_comm = function(comm, msg) {\n",
       "    // This is the function which gets called when the mpl process\n",
       "    // starts-up an IPython Comm through the \"matplotlib\" channel.\n",
       "\n",
       "    var id = msg.content.data.id;\n",
       "    // Get hold of the div created by the display call when the Comm\n",
       "    // socket was opened in Python.\n",
       "    var element = $(\"#\" + id);\n",
       "    var ws_proxy = comm_websocket_adapter(comm)\n",
       "\n",
       "    function ondownload(figure, format) {\n",
       "        window.open(figure.imageObj.src);\n",
       "    }\n",
       "\n",
       "    var fig = new mpl.figure(id, ws_proxy,\n",
       "                           ondownload,\n",
       "                           element.get(0));\n",
       "\n",
       "    // Call onopen now - mpl needs it, as it is assuming we've passed it a real\n",
       "    // web socket which is closed, not our websocket->open comm proxy.\n",
       "    ws_proxy.onopen();\n",
       "\n",
       "    fig.parent_element = element.get(0);\n",
       "    fig.cell_info = mpl.find_output_cell(\"<div id='\" + id + \"'></div>\");\n",
       "    if (!fig.cell_info) {\n",
       "        console.error(\"Failed to find cell for figure\", id, fig);\n",
       "        return;\n",
       "    }\n",
       "\n",
       "    var output_index = fig.cell_info[2]\n",
       "    var cell = fig.cell_info[0];\n",
       "\n",
       "};\n",
       "\n",
       "mpl.figure.prototype.handle_close = function(fig, msg) {\n",
       "    var width = fig.canvas.width/mpl.ratio\n",
       "    fig.root.unbind('remove')\n",
       "\n",
       "    // Update the output cell to use the data from the current canvas.\n",
       "    fig.push_to_output();\n",
       "    var dataURL = fig.canvas.toDataURL();\n",
       "    // Re-enable the keyboard manager in IPython - without this line, in FF,\n",
       "    // the notebook keyboard shortcuts fail.\n",
       "    IPython.keyboard_manager.enable()\n",
       "    $(fig.parent_element).html('<img src=\"' + dataURL + '\" width=\"' + width + '\">');\n",
       "    fig.close_ws(fig, msg);\n",
       "}\n",
       "\n",
       "mpl.figure.prototype.close_ws = function(fig, msg){\n",
       "    fig.send_message('closing', msg);\n",
       "    // fig.ws.close()\n",
       "}\n",
       "\n",
       "mpl.figure.prototype.push_to_output = function(remove_interactive) {\n",
       "    // Turn the data on the canvas into data in the output cell.\n",
       "    var width = this.canvas.width/mpl.ratio\n",
       "    var dataURL = this.canvas.toDataURL();\n",
       "    this.cell_info[1]['text/html'] = '<img src=\"' + dataURL + '\" width=\"' + width + '\">';\n",
       "}\n",
       "\n",
       "mpl.figure.prototype.updated_canvas_event = function() {\n",
       "    // Tell IPython that the notebook contents must change.\n",
       "    IPython.notebook.set_dirty(true);\n",
       "    this.send_message(\"ack\", {});\n",
       "    var fig = this;\n",
       "    // Wait a second, then push the new image to the DOM so\n",
       "    // that it is saved nicely (might be nice to debounce this).\n",
       "    setTimeout(function () { fig.push_to_output() }, 1000);\n",
       "}\n",
       "\n",
       "mpl.figure.prototype._init_toolbar = function() {\n",
       "    var fig = this;\n",
       "\n",
       "    var nav_element = $('<div/>')\n",
       "    nav_element.attr('style', 'width: 100%');\n",
       "    this.root.append(nav_element);\n",
       "\n",
       "    // Define a callback function for later on.\n",
       "    function toolbar_event(event) {\n",
       "        return fig.toolbar_button_onclick(event['data']);\n",
       "    }\n",
       "    function toolbar_mouse_event(event) {\n",
       "        return fig.toolbar_button_onmouseover(event['data']);\n",
       "    }\n",
       "\n",
       "    for(var toolbar_ind in mpl.toolbar_items){\n",
       "        var name = mpl.toolbar_items[toolbar_ind][0];\n",
       "        var tooltip = mpl.toolbar_items[toolbar_ind][1];\n",
       "        var image = mpl.toolbar_items[toolbar_ind][2];\n",
       "        var method_name = mpl.toolbar_items[toolbar_ind][3];\n",
       "\n",
       "        if (!name) { continue; };\n",
       "\n",
       "        var button = $('<button class=\"btn btn-default\" href=\"#\" title=\"' + name + '\"><i class=\"fa ' + image + ' fa-lg\"></i></button>');\n",
       "        button.click(method_name, toolbar_event);\n",
       "        button.mouseover(tooltip, toolbar_mouse_event);\n",
       "        nav_element.append(button);\n",
       "    }\n",
       "\n",
       "    // Add the status bar.\n",
       "    var status_bar = $('<span class=\"mpl-message\" style=\"text-align:right; float: right;\"/>');\n",
       "    nav_element.append(status_bar);\n",
       "    this.message = status_bar[0];\n",
       "\n",
       "    // Add the close button to the window.\n",
       "    var buttongrp = $('<div class=\"btn-group inline pull-right\"></div>');\n",
       "    var button = $('<button class=\"btn btn-mini btn-primary\" href=\"#\" title=\"Stop Interaction\"><i class=\"fa fa-power-off icon-remove icon-large\"></i></button>');\n",
       "    button.click(function (evt) { fig.handle_close(fig, {}); } );\n",
       "    button.mouseover('Stop Interaction', toolbar_mouse_event);\n",
       "    buttongrp.append(button);\n",
       "    var titlebar = this.root.find($('.ui-dialog-titlebar'));\n",
       "    titlebar.prepend(buttongrp);\n",
       "}\n",
       "\n",
       "mpl.figure.prototype._root_extra_style = function(el){\n",
       "    var fig = this\n",
       "    el.on(\"remove\", function(){\n",
       "\tfig.close_ws(fig, {});\n",
       "    });\n",
       "}\n",
       "\n",
       "mpl.figure.prototype._canvas_extra_style = function(el){\n",
       "    // this is important to make the div 'focusable\n",
       "    el.attr('tabindex', 0)\n",
       "    // reach out to IPython and tell the keyboard manager to turn it's self\n",
       "    // off when our div gets focus\n",
       "\n",
       "    // location in version 3\n",
       "    if (IPython.notebook.keyboard_manager) {\n",
       "        IPython.notebook.keyboard_manager.register_events(el);\n",
       "    }\n",
       "    else {\n",
       "        // location in version 2\n",
       "        IPython.keyboard_manager.register_events(el);\n",
       "    }\n",
       "\n",
       "}\n",
       "\n",
       "mpl.figure.prototype._key_event_extra = function(event, name) {\n",
       "    var manager = IPython.notebook.keyboard_manager;\n",
       "    if (!manager)\n",
       "        manager = IPython.keyboard_manager;\n",
       "\n",
       "    // Check for shift+enter\n",
       "    if (event.shiftKey && event.which == 13) {\n",
       "        this.canvas_div.blur();\n",
       "        // select the cell after this one\n",
       "        var index = IPython.notebook.find_cell_index(this.cell_info[0]);\n",
       "        IPython.notebook.select(index + 1);\n",
       "    }\n",
       "}\n",
       "\n",
       "mpl.figure.prototype.handle_save = function(fig, msg) {\n",
       "    fig.ondownload(fig, null);\n",
       "}\n",
       "\n",
       "\n",
       "mpl.find_output_cell = function(html_output) {\n",
       "    // Return the cell and output element which can be found *uniquely* in the notebook.\n",
       "    // Note - this is a bit hacky, but it is done because the \"notebook_saving.Notebook\"\n",
       "    // IPython event is triggered only after the cells have been serialised, which for\n",
       "    // our purposes (turning an active figure into a static one), is too late.\n",
       "    var cells = IPython.notebook.get_cells();\n",
       "    var ncells = cells.length;\n",
       "    for (var i=0; i<ncells; i++) {\n",
       "        var cell = cells[i];\n",
       "        if (cell.cell_type === 'code'){\n",
       "            for (var j=0; j<cell.output_area.outputs.length; j++) {\n",
       "                var data = cell.output_area.outputs[j];\n",
       "                if (data.data) {\n",
       "                    // IPython >= 3 moved mimebundle to data attribute of output\n",
       "                    data = data.data;\n",
       "                }\n",
       "                if (data['text/html'] == html_output) {\n",
       "                    return [cell, data, j];\n",
       "                }\n",
       "            }\n",
       "        }\n",
       "    }\n",
       "}\n",
       "\n",
       "// Register the function which deals with the matplotlib target/channel.\n",
       "// The kernel may be null if the page has been refreshed.\n",
       "if (IPython.notebook.kernel != null) {\n",
       "    IPython.notebook.kernel.comm_manager.register_target('matplotlib', mpl.mpl_figure_comm);\n",
       "}\n"
      ],
      "text/plain": [
       "<IPython.core.display.Javascript object>"
      ]
     },
     "metadata": {},
     "output_type": "display_data"
    },
    {
     "data": {
      "text/html": [
       "<img src=\"data:image/png;base64,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\" width=\"639.9999861283738\">"
      ],
      "text/plain": [
       "<IPython.core.display.HTML object>"
      ]
     },
     "metadata": {},
     "output_type": "display_data"
    }
   ],
   "source": [
    "# Uncomment the plotting function to see the visualization, \n",
    "# Comment out the plotting function when submitting your notebook for grading\n",
    "\n",
    "#accuracy_plot() "
   ]
  },
  {
   "cell_type": "code",
   "execution_count": null,
   "metadata": {
    "collapsed": true
   },
   "outputs": [],
   "source": []
  }
 ],
 "metadata": {
  "coursera": {
   "course_slug": "python-machine-learning",
   "graded_item_id": "f9SY5",
   "launcher_item_id": "oxndk",
   "part_id": "mh1Vo"
  },
  "kernelspec": {
   "display_name": "Python 3",
   "language": "python",
   "name": "python3"
  },
  "language_info": {
   "codemirror_mode": {
    "name": "ipython",
    "version": 3
   },
   "file_extension": ".py",
   "mimetype": "text/x-python",
   "name": "python",
   "nbconvert_exporter": "python",
   "pygments_lexer": "ipython3",
   "version": "3.6.1"
  }
 },
 "nbformat": 4,
 "nbformat_minor": 1
}
